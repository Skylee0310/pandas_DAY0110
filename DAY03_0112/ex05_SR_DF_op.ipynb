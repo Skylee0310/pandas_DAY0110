{
 "cells": [
  {
   "cell_type": "markdown",
   "id": "9245f4ca-3957-42c3-b340-a8a6541d054c",
   "metadata": {},
   "source": [
    "## [Series 데이터 연산 ]"
   ]
  },
  {
   "cell_type": "markdown",
   "id": "4a55fcf5-a6fd-4559-aa90-abe291f94d5d",
   "metadata": {},
   "source": [
    "(1) 모듈로딩 <hr>"
   ]
  },
  {
   "cell_type": "code",
   "execution_count": 47,
   "id": "84cc016b-02b0-4335-afb9-f8e6479de88d",
   "metadata": {},
   "outputs": [],
   "source": [
    "import pandas as pd\n",
    "import numpy as np               # import math as m ===> m.nan"
   ]
  },
  {
   "cell_type": "markdown",
   "id": "56f24329-100a-4acd-b592-6344dfda7ef6",
   "metadata": {},
   "source": [
    "(2) 데이터 준비<hr>"
   ]
  },
  {
   "cell_type": "code",
   "execution_count": 48,
   "id": "b728da18-4483-414a-9588-989b08dcb2b2",
   "metadata": {},
   "outputs": [],
   "source": [
    "#data =[5, 7, np.nan, 9, 11] \n",
    "data =[5, 7, 'a', 9, 11] "
   ]
  },
  {
   "cell_type": "markdown",
   "id": "9023de24-b2d6-4da4-bae9-66e6a8633259",
   "metadata": {},
   "source": [
    "(3) 데이터 저장 => 1차원 데이터로 Series에 저장"
   ]
  },
  {
   "cell_type": "code",
   "execution_count": 49,
   "id": "b5b575b6-a9ca-4339-abf2-d91e5be90422",
   "metadata": {},
   "outputs": [],
   "source": [
    "sr = pd.Series(data)"
   ]
  },
  {
   "cell_type": "markdown",
   "id": "c3069847-ce16-4061-81d5-586a8397c17f",
   "metadata": {},
   "source": [
    "(4) 데이터 확인"
   ]
  },
  {
   "cell_type": "code",
   "execution_count": 50,
   "id": "22d395fa-cdd5-4eef-95b1-0fa65461d8eb",
   "metadata": {},
   "outputs": [
    {
     "data": {
      "text/plain": [
       "count     4.000000\n",
       "mean      8.000000\n",
       "std       2.581989\n",
       "min       5.000000\n",
       "25%       6.500000\n",
       "50%       8.000000\n",
       "75%       9.500000\n",
       "max      11.000000\n",
       "dtype: float64"
      ]
     },
     "execution_count": 50,
     "metadata": {},
     "output_type": "execute_result"
    }
   ],
   "source": [
    "sr.describe()"
   ]
  },
  {
   "cell_type": "code",
   "execution_count": 51,
   "id": "128552bb-82fc-43ef-9c72-b249cce8a84a",
   "metadata": {},
   "outputs": [
    {
     "data": {
      "text/plain": [
       "(RangeIndex(start=0, stop=5, step=1), (5,), 1, dtype('float64'), 5)"
      ]
     },
     "execution_count": 51,
     "metadata": {},
     "output_type": "execute_result"
    }
   ],
   "source": [
    "sr.index, sr.shape, sr.ndim, sr.dtype, sr.size"
   ]
  },
  {
   "cell_type": "code",
   "execution_count": 52,
   "id": "0f71aa24-faf5-4d6e-9cb5-949bb15b18a6",
   "metadata": {},
   "outputs": [
    {
     "data": {
      "text/plain": [
       "array([ 5.,  7., nan,  9., 11.])"
      ]
     },
     "execution_count": 52,
     "metadata": {},
     "output_type": "execute_result"
    }
   ],
   "source": [
    "sr.values"
   ]
  },
  {
   "cell_type": "markdown",
   "id": "55b2f1e3-e8e5-4a7d-83ad-c5d180c9e423",
   "metadata": {},
   "source": [
    "(5) 연산 수행 -=> Series 객체 -  연산자 -  숫자"
   ]
  },
  {
   "cell_type": "code",
   "execution_count": 94,
   "id": "38e569ca-c605-406f-8258-1fb4b5ea5f12",
   "metadata": {},
   "outputs": [
    {
     "data": {
      "text/plain": [
       "True"
      ]
     },
     "execution_count": 94,
     "metadata": {},
     "output_type": "execute_result"
    }
   ],
   "source": [
    "sr.is_unique"
   ]
  },
  {
   "cell_type": "code",
   "execution_count": 53,
   "id": "ffea67c4-a018-4934-9cc1-7ae6336ef917",
   "metadata": {},
   "outputs": [
    {
     "data": {
      "text/plain": [
       "0    10.0\n",
       "1    12.0\n",
       "2     NaN\n",
       "3    14.0\n",
       "4    16.0\n",
       "dtype: float64"
      ]
     },
     "execution_count": 53,
     "metadata": {},
     "output_type": "execute_result"
    }
   ],
   "source": [
    "sr+ 5 # 값에 각각 5를 더해줌."
   ]
  },
  {
   "cell_type": "code",
   "execution_count": 54,
   "id": "94e7b989-d24a-4600-994f-cc33ee11c223",
   "metadata": {},
   "outputs": [
    {
     "data": {
      "text/plain": [
       "0    0.0\n",
       "1    2.0\n",
       "2    NaN\n",
       "3    4.0\n",
       "4    6.0\n",
       "dtype: float64"
      ]
     },
     "execution_count": 54,
     "metadata": {},
     "output_type": "execute_result"
    }
   ],
   "source": [
    "sr-5 #각 값에 5를 빼줌"
   ]
  },
  {
   "cell_type": "code",
   "execution_count": 55,
   "id": "6007bd7d-80ce-4b91-aa97-3b45728d3d49",
   "metadata": {},
   "outputs": [
    {
     "data": {
      "text/plain": [
       "0    25.0\n",
       "1    35.0\n",
       "2     NaN\n",
       "3    45.0\n",
       "4    55.0\n",
       "dtype: float64"
      ]
     },
     "execution_count": 55,
     "metadata": {},
     "output_type": "execute_result"
    }
   ],
   "source": [
    "sr*5"
   ]
  },
  {
   "cell_type": "code",
   "execution_count": 56,
   "id": "c1c37560-cbe8-4de4-aabb-fc56d93ddaa1",
   "metadata": {},
   "outputs": [
    {
     "data": {
      "text/plain": [
       "0    1.0\n",
       "1    1.4\n",
       "2    NaN\n",
       "3    1.8\n",
       "4    2.2\n",
       "dtype: float64"
      ]
     },
     "execution_count": 56,
     "metadata": {},
     "output_type": "execute_result"
    }
   ],
   "source": [
    "sr/5"
   ]
  },
  {
   "cell_type": "code",
   "execution_count": 57,
   "id": "237a1999-7dbd-4bcf-84dc-318f09d1a490",
   "metadata": {},
   "outputs": [
    {
     "data": {
      "text/plain": [
       "0    1.0\n",
       "1    1.0\n",
       "2    NaN\n",
       "3    1.0\n",
       "4    2.0\n",
       "dtype: float64"
      ]
     },
     "execution_count": 57,
     "metadata": {},
     "output_type": "execute_result"
    }
   ],
   "source": [
    "sr//5"
   ]
  },
  {
   "cell_type": "code",
   "execution_count": 58,
   "id": "bab82c4e-8993-4079-a857-8f953632fc69",
   "metadata": {},
   "outputs": [
    {
     "data": {
      "text/plain": [
       "0    0.0\n",
       "1    2.0\n",
       "2    NaN\n",
       "3    4.0\n",
       "4    1.0\n",
       "dtype: float64"
      ]
     },
     "execution_count": 58,
     "metadata": {},
     "output_type": "execute_result"
    }
   ],
   "source": [
    "sr%5"
   ]
  },
  {
   "cell_type": "code",
   "execution_count": 59,
   "id": "9b10b507-754a-43f3-b74f-161558337365",
   "metadata": {},
   "outputs": [
    {
     "data": {
      "text/plain": [
       "0      3125.0\n",
       "1     16807.0\n",
       "2         NaN\n",
       "3     59049.0\n",
       "4    161051.0\n",
       "dtype: float64"
      ]
     },
     "execution_count": 59,
     "metadata": {},
     "output_type": "execute_result"
    }
   ],
   "source": [
    "sr**5"
   ]
  },
  {
   "cell_type": "code",
   "execution_count": 60,
   "id": "1e25e153-3965-404a-a69e-2af230af97bf",
   "metadata": {},
   "outputs": [
    {
     "data": {
      "text/plain": [
       "0    False\n",
       "1     True\n",
       "2    False\n",
       "3     True\n",
       "4     True\n",
       "dtype: bool"
      ]
     },
     "execution_count": 60,
     "metadata": {},
     "output_type": "execute_result"
    }
   ],
   "source": [
    "sr> 5  # 비교연산자도 가능"
   ]
  },
  {
   "cell_type": "code",
   "execution_count": 61,
   "id": "b5a0e417-7e0a-4839-948c-e5cb269b4e91",
   "metadata": {},
   "outputs": [],
   "source": [
    "#sr > 5 and sr<10 #and 연산자 불가능"
   ]
  },
  {
   "cell_type": "code",
   "execution_count": 62,
   "id": "46167a2f-89fc-4068-acc9-f3d9c12950e0",
   "metadata": {},
   "outputs": [],
   "source": [
    "#(sr > 5) and (sr < 10)"
   ]
  },
  {
   "cell_type": "markdown",
   "id": "02eccccb-68d7-4c13-8854-22eb606495ba",
   "metadata": {},
   "source": [
    "- 논리연산 => & : and 연산, | : or 연산, ~ : not 연산"
   ]
  },
  {
   "cell_type": "code",
   "execution_count": 63,
   "id": "a028695b-8372-4b30-bd64-9d0fc439b6ab",
   "metadata": {},
   "outputs": [
    {
     "data": {
      "text/plain": [
       "0    False\n",
       "1     True\n",
       "2    False\n",
       "3     True\n",
       "4    False\n",
       "dtype: bool"
      ]
     },
     "execution_count": 63,
     "metadata": {},
     "output_type": "execute_result"
    }
   ],
   "source": [
    "(sr > 5) & (sr < 10)"
   ]
  },
  {
   "cell_type": "code",
   "execution_count": 64,
   "id": "a15b02a5-9db7-4465-b02b-9dca6e4bdf8f",
   "metadata": {},
   "outputs": [
    {
     "data": {
      "text/plain": [
       "0     True\n",
       "1     True\n",
       "2    False\n",
       "3     True\n",
       "4     True\n",
       "dtype: bool"
      ]
     },
     "execution_count": 64,
     "metadata": {},
     "output_type": "execute_result"
    }
   ],
   "source": [
    "(sr > 5) | (sr < 10)"
   ]
  },
  {
   "cell_type": "code",
   "execution_count": 65,
   "id": "72f2e058-aab4-41e2-9039-0b61836b409d",
   "metadata": {},
   "outputs": [
    {
     "data": {
      "text/plain": [
       "0    True\n",
       "1    True\n",
       "2    True\n",
       "3    True\n",
       "4    True\n",
       "dtype: bool"
      ]
     },
     "execution_count": 65,
     "metadata": {},
     "output_type": "execute_result"
    }
   ],
   "source": [
    "~(sr == 5) | ~(sr == 10)"
   ]
  },
  {
   "cell_type": "code",
   "execution_count": 66,
   "id": "c68214cf-05bc-4c5a-9ed3-5d05330d71f4",
   "metadata": {},
   "outputs": [
    {
     "name": "stdout",
     "output_type": "stream",
     "text": [
      "0     True\n",
      "1    False\n",
      "2     True\n",
      "3    False\n",
      "4    False\n",
      "dtype: bool\n",
      "\n",
      "0    False\n",
      "1     True\n",
      "2    False\n",
      "3     True\n",
      "4     True\n",
      "dtype: bool\n"
     ]
    }
   ],
   "source": [
    "print(~(sr>5), sr>5, sep ='\\n\\n')"
   ]
  },
  {
   "cell_type": "markdown",
   "id": "6889473c-5372-4a22-9f9e-b871b5d244ad",
   "metadata": {},
   "source": [
    "(5) 연산 수행 => Series 객체 + Series 객체"
   ]
  },
  {
   "cell_type": "code",
   "execution_count": 67,
   "id": "1a22fc71-eee3-42c5-9898-377235c0b23c",
   "metadata": {},
   "outputs": [],
   "source": [
    "data2 = [2, 4, 6, 8, 9]\n",
    "sr2 = pd.Series(data2)"
   ]
  },
  {
   "cell_type": "code",
   "execution_count": 68,
   "id": "4eb7de6d-a741-4cc8-bf63-a556dcbe1c91",
   "metadata": {},
   "outputs": [
    {
     "data": {
      "text/plain": [
       "0     7.0\n",
       "1    11.0\n",
       "2     NaN\n",
       "3    17.0\n",
       "4    20.0\n",
       "dtype: float64"
      ]
     },
     "execution_count": 68,
     "metadata": {},
     "output_type": "execute_result"
    }
   ],
   "source": [
    "sr+sr2 # 같은 인덱스끼리 더함."
   ]
  },
  {
   "cell_type": "code",
   "execution_count": 69,
   "id": "2166195d-35f6-408d-a5bb-87d8355b769a",
   "metadata": {},
   "outputs": [
    {
     "name": "stdout",
     "output_type": "stream",
     "text": [
      "0     7.0\n",
      "1    11.0\n",
      "2     NaN\n",
      "3    17.0\n",
      "4    20.0\n",
      "dtype: float64\n",
      "\n",
      "0    3.0\n",
      "1    3.0\n",
      "2    NaN\n",
      "3    1.0\n",
      "4    2.0\n",
      "dtype: float64\n",
      "\n",
      "0    10.0\n",
      "1    28.0\n",
      "2     NaN\n",
      "3    72.0\n",
      "4    99.0\n",
      "dtype: float64\n",
      "\n",
      "0    2.500000\n",
      "1    1.750000\n",
      "2         NaN\n",
      "3    1.125000\n",
      "4    1.222222\n",
      "dtype: float64\n",
      "\n",
      "0    1.0\n",
      "1    3.0\n",
      "2    NaN\n",
      "3    1.0\n",
      "4    2.0\n",
      "dtype: float64\n"
     ]
    }
   ],
   "source": [
    "print(sr+sr2, sr-sr2, sr*sr2, sr/sr2, sr%sr2, sep =\"\\n\\n\")"
   ]
  },
  {
   "cell_type": "code",
   "execution_count": 70,
   "id": "9e0327f6-3044-4d21-9c68-7b5609ffc181",
   "metadata": {},
   "outputs": [
    {
     "name": "stdout",
     "output_type": "stream",
     "text": [
      "0     True\n",
      "1     True\n",
      "2    False\n",
      "3     True\n",
      "4     True\n",
      "dtype: bool\n",
      "\n",
      "0    False\n",
      "1    False\n",
      "2    False\n",
      "3    False\n",
      "4    False\n",
      "dtype: bool\n"
     ]
    }
   ],
   "source": [
    "print(sr > sr2, sr < sr2, sep =\"\\n\\n\")"
   ]
  },
  {
   "cell_type": "code",
   "execution_count": 71,
   "id": "8b08d9a1-7139-433c-a152-e90e0730ab46",
   "metadata": {},
   "outputs": [
    {
     "data": {
      "text/plain": [
       "2    2\n",
       "3    4\n",
       "4    6\n",
       "5    8\n",
       "6    9\n",
       "dtype: int64"
      ]
     },
     "execution_count": 71,
     "metadata": {},
     "output_type": "execute_result"
    }
   ],
   "source": [
    "sr2.index=[2,3,4,5,6]\n",
    "sr2"
   ]
  },
  {
   "cell_type": "code",
   "execution_count": 72,
   "id": "19882ea7-f4e4-42bb-aad4-a5336d84361e",
   "metadata": {},
   "outputs": [
    {
     "name": "stdout",
     "output_type": "stream",
     "text": [
      "0     NaN\n",
      "1     NaN\n",
      "2     NaN\n",
      "3    13.0\n",
      "4    17.0\n",
      "5     NaN\n",
      "6     NaN\n",
      "dtype: float64\n",
      "\n",
      "0    NaN\n",
      "1    NaN\n",
      "2    NaN\n",
      "3    5.0\n",
      "4    5.0\n",
      "5    NaN\n",
      "6    NaN\n",
      "dtype: float64\n",
      "\n",
      "0     NaN\n",
      "1     NaN\n",
      "2     NaN\n",
      "3    36.0\n",
      "4    66.0\n",
      "5     NaN\n",
      "6     NaN\n",
      "dtype: float64\n",
      "\n",
      "0         NaN\n",
      "1         NaN\n",
      "2         NaN\n",
      "3    2.250000\n",
      "4    1.833333\n",
      "5         NaN\n",
      "6         NaN\n",
      "dtype: float64\n",
      "\n",
      "0    NaN\n",
      "1    NaN\n",
      "2    NaN\n",
      "3    1.0\n",
      "4    5.0\n",
      "5    NaN\n",
      "6    NaN\n",
      "dtype: float64\n"
     ]
    }
   ],
   "source": [
    "print(sr+sr2, sr-sr2, sr*sr2, sr/sr2, sr%sr2, sep =\"\\n\\n\") \n",
    "# 인덱스가 같은 것끼리 처리가 되기 때문에"
   ]
  },
  {
   "cell_type": "code",
   "execution_count": 73,
   "id": "6c5afb22-0ba4-4b23-bce9-71cbae7a348e",
   "metadata": {},
   "outputs": [
    {
     "data": {
      "text/plain": [
       "0    2\n",
       "1    4\n",
       "2    6\n",
       "3    8\n",
       "4    9\n",
       "dtype: int64"
      ]
     },
     "execution_count": 73,
     "metadata": {},
     "output_type": "execute_result"
    }
   ],
   "source": [
    "sr2.reset_index(drop=True) # 행 인덱스를 버림."
   ]
  },
  {
   "cell_type": "code",
   "execution_count": 74,
   "id": "2b56b166-dbfa-4173-af5a-683250ab4638",
   "metadata": {},
   "outputs": [
    {
     "data": {
      "text/html": [
       "<div>\n",
       "<style scoped>\n",
       "    .dataframe tbody tr th:only-of-type {\n",
       "        vertical-align: middle;\n",
       "    }\n",
       "\n",
       "    .dataframe tbody tr th {\n",
       "        vertical-align: top;\n",
       "    }\n",
       "\n",
       "    .dataframe thead th {\n",
       "        text-align: right;\n",
       "    }\n",
       "</style>\n",
       "<table border=\"1\" class=\"dataframe\">\n",
       "  <thead>\n",
       "    <tr style=\"text-align: right;\">\n",
       "      <th></th>\n",
       "      <th>index</th>\n",
       "      <th>0</th>\n",
       "    </tr>\n",
       "  </thead>\n",
       "  <tbody>\n",
       "    <tr>\n",
       "      <th>0</th>\n",
       "      <td>2</td>\n",
       "      <td>2</td>\n",
       "    </tr>\n",
       "    <tr>\n",
       "      <th>1</th>\n",
       "      <td>3</td>\n",
       "      <td>4</td>\n",
       "    </tr>\n",
       "    <tr>\n",
       "      <th>2</th>\n",
       "      <td>4</td>\n",
       "      <td>6</td>\n",
       "    </tr>\n",
       "    <tr>\n",
       "      <th>3</th>\n",
       "      <td>5</td>\n",
       "      <td>8</td>\n",
       "    </tr>\n",
       "    <tr>\n",
       "      <th>4</th>\n",
       "      <td>6</td>\n",
       "      <td>9</td>\n",
       "    </tr>\n",
       "  </tbody>\n",
       "</table>\n",
       "</div>"
      ],
      "text/plain": [
       "   index  0\n",
       "0      2  2\n",
       "1      3  4\n",
       "2      4  6\n",
       "3      5  8\n",
       "4      6  9"
      ]
     },
     "execution_count": 74,
     "metadata": {},
     "output_type": "execute_result"
    }
   ],
   "source": [
    "sr2.reset_index() #행 인덱스를 컬럼에 넣고 앞에 있는 인덱스 초기화"
   ]
  },
  {
   "cell_type": "markdown",
   "id": "bd4f0a08-759a-43e3-a194-a4b5db6f7af3",
   "metadata": {},
   "source": [
    "(5) Series 연산 수행 전용 메서드"
   ]
  },
  {
   "cell_type": "code",
   "execution_count": 75,
   "id": "27d970bb-95c1-4f58-8020-25fefff7fd0d",
   "metadata": {},
   "outputs": [
    {
     "data": {
      "text/plain": [
       "0    10.0\n",
       "1    12.0\n",
       "2     NaN\n",
       "3    14.0\n",
       "4    16.0\n",
       "dtype: float64"
      ]
     },
     "execution_count": 75,
     "metadata": {},
     "output_type": "execute_result"
    }
   ],
   "source": [
    "sr.add(5)"
   ]
  },
  {
   "cell_type": "code",
   "execution_count": 76,
   "id": "8b6b5f96-1f07-4c84-976e-4916a95a296f",
   "metadata": {},
   "outputs": [
    {
     "name": "stdout",
     "output_type": "stream",
     "text": [
      "0    10.0\n",
      "1    12.0\n",
      "2     5.0\n",
      "3    14.0\n",
      "4    16.0\n",
      "dtype: float64\n"
     ]
    }
   ],
   "source": [
    "print(sr.add(5, fill_value = 0), sep ='\\n\\n') # 공백 인덱스 , NaN 연산 피하기 -> fill_value"
   ]
  },
  {
   "cell_type": "code",
   "execution_count": 77,
   "id": "74065eeb-ba8a-4446-b89a-341f5cb32aa6",
   "metadata": {},
   "outputs": [
    {
     "name": "stdout",
     "output_type": "stream",
     "text": [
      "0    NaN\n",
      "1    NaN\n",
      "2    NaN\n",
      "3    5.0\n",
      "4    5.0\n",
      "5    NaN\n",
      "6    NaN\n",
      "dtype: float64\n",
      "\n",
      "0    5.0\n",
      "1    7.0\n",
      "2   -2.0\n",
      "3    5.0\n",
      "4    5.0\n",
      "5   -8.0\n",
      "6   -9.0\n",
      "dtype: float64\n"
     ]
    }
   ],
   "source": [
    "print(sr.sub(sr2), sr.sub(sr2, fill_value=0), sep='\\n\\n')"
   ]
  },
  {
   "cell_type": "code",
   "execution_count": 109,
   "id": "87c756e4-9976-4621-addc-51b60912b286",
   "metadata": {},
   "outputs": [],
   "source": [
    "addSR = sr.add(sr2, fill_value = 0)\n",
    "subSR = sr.sub(sr2, fill_value = 0)\n",
    "mulSR = sr.mul(sr2, fill_value = 0)\n",
    "divSR = sr.div(sr2, fill_value = 0)"
   ]
  },
  {
   "cell_type": "code",
   "execution_count": 110,
   "id": "8f7a518a-eeed-4108-a747-ff99afbdf803",
   "metadata": {},
   "outputs": [
    {
     "data": {
      "text/plain": [
       "(0     1.0\n",
       " 1     6.0\n",
       " 2     5.0\n",
       " 3    13.0\n",
       " 4     6.0\n",
       " 5     8.0\n",
       " 6     9.0\n",
       " dtype: float64,\n",
       " 0    1.0\n",
       " 1    6.0\n",
       " 2    1.0\n",
       " 3    5.0\n",
       " 4   -6.0\n",
       " 5   -8.0\n",
       " 6   -9.0\n",
       " dtype: float64,\n",
       " 0     0.0\n",
       " 1     0.0\n",
       " 2     6.0\n",
       " 3    36.0\n",
       " 4     0.0\n",
       " 5     0.0\n",
       " 6     0.0\n",
       " dtype: float64,\n",
       " 0     inf\n",
       " 1     inf\n",
       " 2    1.50\n",
       " 3    2.25\n",
       " 4    0.00\n",
       " 5    0.00\n",
       " 6    0.00\n",
       " dtype: float64)"
      ]
     },
     "execution_count": 110,
     "metadata": {},
     "output_type": "execute_result"
    }
   ],
   "source": [
    "addSR ,subSR, mulSR, divSR"
   ]
  },
  {
   "cell_type": "markdown",
   "id": "16138cf7-bf88-43f9-8582-47ec2c1b51bd",
   "metadata": {},
   "source": [
    "(6) DataFrame 연산 수행"
   ]
  },
  {
   "cell_type": "code",
   "execution_count": 80,
   "id": "23354625-18e6-4f57-a8e2-17c2821ea76b",
   "metadata": {},
   "outputs": [],
   "source": [
    "df = pd.DataFrame([addSR, subSR, mulSR, divSR], index=['add', 'sub', 'mul', 'div'])"
   ]
  },
  {
   "cell_type": "code",
   "execution_count": 81,
   "id": "b427171a-4a77-4486-a802-1f869cc5e7e4",
   "metadata": {},
   "outputs": [
    {
     "data": {
      "text/html": [
       "<div>\n",
       "<style scoped>\n",
       "    .dataframe tbody tr th:only-of-type {\n",
       "        vertical-align: middle;\n",
       "    }\n",
       "\n",
       "    .dataframe tbody tr th {\n",
       "        vertical-align: top;\n",
       "    }\n",
       "\n",
       "    .dataframe thead th {\n",
       "        text-align: right;\n",
       "    }\n",
       "</style>\n",
       "<table border=\"1\" class=\"dataframe\">\n",
       "  <thead>\n",
       "    <tr style=\"text-align: right;\">\n",
       "      <th></th>\n",
       "      <th>0</th>\n",
       "      <th>1</th>\n",
       "      <th>2</th>\n",
       "      <th>3</th>\n",
       "      <th>4</th>\n",
       "    </tr>\n",
       "  </thead>\n",
       "  <tbody>\n",
       "    <tr>\n",
       "      <th>add</th>\n",
       "      <td>10.0</td>\n",
       "      <td>12.0</td>\n",
       "      <td>5.0</td>\n",
       "      <td>14.0</td>\n",
       "      <td>16.0</td>\n",
       "    </tr>\n",
       "    <tr>\n",
       "      <th>sub</th>\n",
       "      <td>0.0</td>\n",
       "      <td>2.0</td>\n",
       "      <td>-5.0</td>\n",
       "      <td>4.0</td>\n",
       "      <td>6.0</td>\n",
       "    </tr>\n",
       "    <tr>\n",
       "      <th>mul</th>\n",
       "      <td>25.0</td>\n",
       "      <td>35.0</td>\n",
       "      <td>0.0</td>\n",
       "      <td>45.0</td>\n",
       "      <td>55.0</td>\n",
       "    </tr>\n",
       "    <tr>\n",
       "      <th>div</th>\n",
       "      <td>1.0</td>\n",
       "      <td>1.4</td>\n",
       "      <td>0.0</td>\n",
       "      <td>1.8</td>\n",
       "      <td>2.2</td>\n",
       "    </tr>\n",
       "  </tbody>\n",
       "</table>\n",
       "</div>"
      ],
      "text/plain": [
       "        0     1    2     3     4\n",
       "add  10.0  12.0  5.0  14.0  16.0\n",
       "sub   0.0   2.0 -5.0   4.0   6.0\n",
       "mul  25.0  35.0  0.0  45.0  55.0\n",
       "div   1.0   1.4  0.0   1.8   2.2"
      ]
     },
     "execution_count": 81,
     "metadata": {},
     "output_type": "execute_result"
    }
   ],
   "source": [
    "df"
   ]
  },
  {
   "cell_type": "markdown",
   "id": "86078451-b4e8-4ff3-9d14-a1b1a52a769b",
   "metadata": {},
   "source": [
    "- DataFrame과 숫자 연산 수행."
   ]
  },
  {
   "cell_type": "code",
   "execution_count": 82,
   "id": "5c3db3a5-ea4c-48a0-bd6e-0cc2401bc4f2",
   "metadata": {},
   "outputs": [
    {
     "name": "stdout",
     "output_type": "stream",
     "text": [
      "        0     1     2     3     4\n",
      "add  15.0  17.0  10.0  19.0  21.0\n",
      "sub   5.0   7.0   0.0   9.0  11.0\n",
      "mul  30.0  40.0   5.0  50.0  60.0\n",
      "div   6.0   6.4   5.0   6.8   7.2\n",
      "\n",
      "        0     1     2     3     4\n",
      "add   5.0   7.0   0.0   9.0  11.0\n",
      "sub  -5.0  -3.0 -10.0  -1.0   1.0\n",
      "mul  20.0  30.0  -5.0  40.0  50.0\n",
      "div  -4.0  -3.6  -5.0  -3.2  -2.8\n"
     ]
    }
   ],
   "source": [
    "print(df+5, df-5, sep='\\n\\n')"
   ]
  },
  {
   "cell_type": "code",
   "execution_count": 83,
   "id": "85bb0030-ee03-4a8c-ae9c-9b1fc8cd6218",
   "metadata": {},
   "outputs": [
    {
     "name": "stdout",
     "output_type": "stream",
     "text": [
      "         0      1      2      3      4\n",
      "add   True   True  False   True   True\n",
      "sub  False  False  False  False   True\n",
      "mul   True   True  False   True   True\n",
      "div  False  False  False  False  False\n"
     ]
    }
   ],
   "source": [
    "print(df>5, sep='\\n\\n')"
   ]
  },
  {
   "cell_type": "markdown",
   "id": "350ea55f-e365-4f4a-b407-6a5b318ffbbd",
   "metadata": {},
   "source": [
    "- DataFrame과 DataFrame 연산 수행 => 동일 위치에 원소끼리 연산 수행 "
   ]
  },
  {
   "cell_type": "code",
   "execution_count": 84,
   "id": "c604406b-e86f-4249-a392-d33181544b6d",
   "metadata": {},
   "outputs": [
    {
     "data": {
      "text/html": [
       "<div>\n",
       "<style scoped>\n",
       "    .dataframe tbody tr th:only-of-type {\n",
       "        vertical-align: middle;\n",
       "    }\n",
       "\n",
       "    .dataframe tbody tr th {\n",
       "        vertical-align: top;\n",
       "    }\n",
       "\n",
       "    .dataframe thead th {\n",
       "        text-align: right;\n",
       "    }\n",
       "</style>\n",
       "<table border=\"1\" class=\"dataframe\">\n",
       "  <thead>\n",
       "    <tr style=\"text-align: right;\">\n",
       "      <th></th>\n",
       "      <th>0</th>\n",
       "      <th>1</th>\n",
       "      <th>2</th>\n",
       "      <th>3</th>\n",
       "      <th>4</th>\n",
       "    </tr>\n",
       "  </thead>\n",
       "  <tbody>\n",
       "    <tr>\n",
       "      <th>add</th>\n",
       "      <td>100.0</td>\n",
       "      <td>120.0</td>\n",
       "      <td>50.0</td>\n",
       "      <td>140.0</td>\n",
       "      <td>160.0</td>\n",
       "    </tr>\n",
       "    <tr>\n",
       "      <th>sub</th>\n",
       "      <td>0.0</td>\n",
       "      <td>20.0</td>\n",
       "      <td>-50.0</td>\n",
       "      <td>40.0</td>\n",
       "      <td>60.0</td>\n",
       "    </tr>\n",
       "    <tr>\n",
       "      <th>mul</th>\n",
       "      <td>250.0</td>\n",
       "      <td>350.0</td>\n",
       "      <td>0.0</td>\n",
       "      <td>450.0</td>\n",
       "      <td>550.0</td>\n",
       "    </tr>\n",
       "    <tr>\n",
       "      <th>div</th>\n",
       "      <td>10.0</td>\n",
       "      <td>14.0</td>\n",
       "      <td>0.0</td>\n",
       "      <td>18.0</td>\n",
       "      <td>22.0</td>\n",
       "    </tr>\n",
       "  </tbody>\n",
       "</table>\n",
       "</div>"
      ],
      "text/plain": [
       "         0      1     2      3      4\n",
       "add  100.0  120.0  50.0  140.0  160.0\n",
       "sub    0.0   20.0 -50.0   40.0   60.0\n",
       "mul  250.0  350.0   0.0  450.0  550.0\n",
       "div   10.0   14.0   0.0   18.0   22.0"
      ]
     },
     "execution_count": 84,
     "metadata": {},
     "output_type": "execute_result"
    }
   ],
   "source": [
    "df2 = df*10\n",
    "df2"
   ]
  },
  {
   "cell_type": "code",
   "execution_count": 85,
   "id": "78a5cc0b-7b1f-40ba-bdb0-1b265d83edc0",
   "metadata": {},
   "outputs": [
    {
     "name": "stdout",
     "output_type": "stream",
     "text": [
      "         0      1     2      3      4\n",
      "add  110.0  132.0  55.0  154.0  176.0\n",
      "sub    0.0   22.0 -55.0   44.0   66.0\n",
      "mul  275.0  385.0   0.0  495.0  605.0\n",
      "div   11.0   15.4   0.0   19.8   24.2\n",
      "\n",
      "          0        1      2        3        4\n",
      "add  1000.0   1440.0  250.0   1960.0   2560.0\n",
      "sub     0.0     40.0  250.0    160.0    360.0\n",
      "mul  6250.0  12250.0    0.0  20250.0  30250.0\n",
      "div    10.0     19.6    0.0     32.4     48.4\n"
     ]
    }
   ],
   "source": [
    "print(df+df2, df*df2, sep ='\\n\\n')"
   ]
  },
  {
   "cell_type": "code",
   "execution_count": 86,
   "id": "749c0b29-b3f3-478a-a3e0-cf77ed0f2953",
   "metadata": {},
   "outputs": [
    {
     "data": {
      "text/plain": [
       "(Index(['add', 'sub', 'mul', 'div'], dtype='object'),\n",
       " RangeIndex(start=0, stop=5, step=1))"
      ]
     },
     "execution_count": 86,
     "metadata": {},
     "output_type": "execute_result"
    }
   ],
   "source": [
    "df.index, df.columns"
   ]
  },
  {
   "cell_type": "code",
   "execution_count": 87,
   "id": "6a886f96-a95c-461b-9902-79e4df217c06",
   "metadata": {},
   "outputs": [
    {
     "data": {
      "text/plain": [
       "(Index(['add', 'sub', 'mul', 'div'], dtype='object'),\n",
       " RangeIndex(start=0, stop=5, step=1))"
      ]
     },
     "execution_count": 87,
     "metadata": {},
     "output_type": "execute_result"
    }
   ],
   "source": [
    "df2.index, df2.columns"
   ]
  },
  {
   "cell_type": "code",
   "execution_count": 88,
   "id": "db4f0329-cf2d-48d5-86f9-51d926f580f3",
   "metadata": {},
   "outputs": [],
   "source": [
    "df2.index=['add', 'minus','mul','/']"
   ]
  },
  {
   "cell_type": "code",
   "execution_count": 89,
   "id": "aabb3da7-e015-413c-9de0-373def775278",
   "metadata": {},
   "outputs": [
    {
     "name": "stdout",
     "output_type": "stream",
     "text": [
      "           0      1     2      3      4\n",
      "/        NaN    NaN   NaN    NaN    NaN\n",
      "add    110.0  132.0  55.0  154.0  176.0\n",
      "div      NaN    NaN   NaN    NaN    NaN\n",
      "minus    NaN    NaN   NaN    NaN    NaN\n",
      "mul    275.0  385.0   0.0  495.0  605.0\n",
      "sub      NaN    NaN   NaN    NaN    NaN\n",
      "\n",
      "            0        1      2        3        4\n",
      "/         NaN      NaN    NaN      NaN      NaN\n",
      "add    1000.0   1440.0  250.0   1960.0   2560.0\n",
      "div       NaN      NaN    NaN      NaN      NaN\n",
      "minus     NaN      NaN    NaN      NaN      NaN\n",
      "mul    6250.0  12250.0    0.0  20250.0  30250.0\n",
      "sub       NaN      NaN    NaN      NaN      NaN\n"
     ]
    }
   ],
   "source": [
    "print(df+df2, df*df2, sep ='\\n\\n') #없는 인덱스는 계산할 수 없어서 Nan으로 처리됨."
   ]
  },
  {
   "cell_type": "markdown",
   "id": "fedd70b7-ae4f-4eec-8c85-2504321919f3",
   "metadata": {},
   "source": [
    "- 연산 수행 메소드 활용 => 결측치 즉 NaN 빈칸에 대한 처리를 수행 가능\n",
    "   * fill_value 파라미터에 값 설정."
   ]
  },
  {
   "cell_type": "code",
   "execution_count": 90,
   "id": "940645fa-41c1-46c1-b1dc-7618cc20df14",
   "metadata": {},
   "outputs": [
    {
     "data": {
      "text/html": [
       "<div>\n",
       "<style scoped>\n",
       "    .dataframe tbody tr th:only-of-type {\n",
       "        vertical-align: middle;\n",
       "    }\n",
       "\n",
       "    .dataframe tbody tr th {\n",
       "        vertical-align: top;\n",
       "    }\n",
       "\n",
       "    .dataframe thead th {\n",
       "        text-align: right;\n",
       "    }\n",
       "</style>\n",
       "<table border=\"1\" class=\"dataframe\">\n",
       "  <thead>\n",
       "    <tr style=\"text-align: right;\">\n",
       "      <th></th>\n",
       "      <th>0</th>\n",
       "      <th>1</th>\n",
       "      <th>2</th>\n",
       "      <th>3</th>\n",
       "      <th>4</th>\n",
       "    </tr>\n",
       "  </thead>\n",
       "  <tbody>\n",
       "    <tr>\n",
       "      <th>/</th>\n",
       "      <td>10.0</td>\n",
       "      <td>14.0</td>\n",
       "      <td>0.0</td>\n",
       "      <td>18.0</td>\n",
       "      <td>22.0</td>\n",
       "    </tr>\n",
       "    <tr>\n",
       "      <th>add</th>\n",
       "      <td>110.0</td>\n",
       "      <td>132.0</td>\n",
       "      <td>55.0</td>\n",
       "      <td>154.0</td>\n",
       "      <td>176.0</td>\n",
       "    </tr>\n",
       "    <tr>\n",
       "      <th>div</th>\n",
       "      <td>1.0</td>\n",
       "      <td>1.4</td>\n",
       "      <td>0.0</td>\n",
       "      <td>1.8</td>\n",
       "      <td>2.2</td>\n",
       "    </tr>\n",
       "    <tr>\n",
       "      <th>minus</th>\n",
       "      <td>0.0</td>\n",
       "      <td>20.0</td>\n",
       "      <td>-50.0</td>\n",
       "      <td>40.0</td>\n",
       "      <td>60.0</td>\n",
       "    </tr>\n",
       "    <tr>\n",
       "      <th>mul</th>\n",
       "      <td>275.0</td>\n",
       "      <td>385.0</td>\n",
       "      <td>0.0</td>\n",
       "      <td>495.0</td>\n",
       "      <td>605.0</td>\n",
       "    </tr>\n",
       "    <tr>\n",
       "      <th>sub</th>\n",
       "      <td>0.0</td>\n",
       "      <td>2.0</td>\n",
       "      <td>-5.0</td>\n",
       "      <td>4.0</td>\n",
       "      <td>6.0</td>\n",
       "    </tr>\n",
       "  </tbody>\n",
       "</table>\n",
       "</div>"
      ],
      "text/plain": [
       "           0      1     2      3      4\n",
       "/       10.0   14.0   0.0   18.0   22.0\n",
       "add    110.0  132.0  55.0  154.0  176.0\n",
       "div      1.0    1.4   0.0    1.8    2.2\n",
       "minus    0.0   20.0 -50.0   40.0   60.0\n",
       "mul    275.0  385.0   0.0  495.0  605.0\n",
       "sub      0.0    2.0  -5.0    4.0    6.0"
      ]
     },
     "execution_count": 90,
     "metadata": {},
     "output_type": "execute_result"
    }
   ],
   "source": [
    "df.add(df2, fill_value = 0)"
   ]
  },
  {
   "cell_type": "code",
   "execution_count": 91,
   "id": "6b5e3d94-ba7c-4fa6-bff3-3479c8f8cc15",
   "metadata": {},
   "outputs": [
    {
     "data": {
      "text/html": [
       "<div>\n",
       "<style scoped>\n",
       "    .dataframe tbody tr th:only-of-type {\n",
       "        vertical-align: middle;\n",
       "    }\n",
       "\n",
       "    .dataframe tbody tr th {\n",
       "        vertical-align: top;\n",
       "    }\n",
       "\n",
       "    .dataframe thead th {\n",
       "        text-align: right;\n",
       "    }\n",
       "</style>\n",
       "<table border=\"1\" class=\"dataframe\">\n",
       "  <thead>\n",
       "    <tr style=\"text-align: right;\">\n",
       "      <th></th>\n",
       "      <th>0</th>\n",
       "      <th>1</th>\n",
       "      <th>2</th>\n",
       "      <th>3</th>\n",
       "      <th>4</th>\n",
       "    </tr>\n",
       "  </thead>\n",
       "  <tbody>\n",
       "    <tr>\n",
       "      <th>/</th>\n",
       "      <td>NaN</td>\n",
       "      <td>NaN</td>\n",
       "      <td>NaN</td>\n",
       "      <td>NaN</td>\n",
       "      <td>NaN</td>\n",
       "    </tr>\n",
       "    <tr>\n",
       "      <th>add</th>\n",
       "      <td>110.0</td>\n",
       "      <td>132.0</td>\n",
       "      <td>55.0</td>\n",
       "      <td>154.0</td>\n",
       "      <td>176.0</td>\n",
       "    </tr>\n",
       "    <tr>\n",
       "      <th>div</th>\n",
       "      <td>NaN</td>\n",
       "      <td>NaN</td>\n",
       "      <td>NaN</td>\n",
       "      <td>NaN</td>\n",
       "      <td>NaN</td>\n",
       "    </tr>\n",
       "    <tr>\n",
       "      <th>minus</th>\n",
       "      <td>NaN</td>\n",
       "      <td>NaN</td>\n",
       "      <td>NaN</td>\n",
       "      <td>NaN</td>\n",
       "      <td>NaN</td>\n",
       "    </tr>\n",
       "    <tr>\n",
       "      <th>mul</th>\n",
       "      <td>275.0</td>\n",
       "      <td>385.0</td>\n",
       "      <td>0.0</td>\n",
       "      <td>495.0</td>\n",
       "      <td>605.0</td>\n",
       "    </tr>\n",
       "    <tr>\n",
       "      <th>sub</th>\n",
       "      <td>NaN</td>\n",
       "      <td>NaN</td>\n",
       "      <td>NaN</td>\n",
       "      <td>NaN</td>\n",
       "      <td>NaN</td>\n",
       "    </tr>\n",
       "  </tbody>\n",
       "</table>\n",
       "</div>"
      ],
      "text/plain": [
       "           0      1     2      3      4\n",
       "/        NaN    NaN   NaN    NaN    NaN\n",
       "add    110.0  132.0  55.0  154.0  176.0\n",
       "div      NaN    NaN   NaN    NaN    NaN\n",
       "minus    NaN    NaN   NaN    NaN    NaN\n",
       "mul    275.0  385.0   0.0  495.0  605.0\n",
       "sub      NaN    NaN   NaN    NaN    NaN"
      ]
     },
     "execution_count": 91,
     "metadata": {},
     "output_type": "execute_result"
    }
   ],
   "source": [
    "df.add(df2)"
   ]
  },
  {
   "cell_type": "code",
   "execution_count": 92,
   "id": "dfc72f31-d791-4691-8832-5fb62d02e485",
   "metadata": {},
   "outputs": [
    {
     "data": {
      "text/plain": [
       "array([ 5.,  7., nan,  9., 11.])"
      ]
     },
     "execution_count": 92,
     "metadata": {},
     "output_type": "execute_result"
    }
   ],
   "source": [
    "sr.values"
   ]
  },
  {
   "cell_type": "code",
   "execution_count": 95,
   "id": "a2e5f7bf-ab2a-43ea-a880-144fefdb33ce",
   "metadata": {},
   "outputs": [
    {
     "data": {
      "text/plain": [
       "True"
      ]
     },
     "execution_count": 95,
     "metadata": {},
     "output_type": "execute_result"
    }
   ],
   "source": [
    "sr.is_unique #요소들의 값을 비교해서 중복값이 있다면 False"
   ]
  },
  {
   "cell_type": "code",
   "execution_count": 101,
   "id": "ce7418ca-ac59-4386-96ea-945c360ed414",
   "metadata": {},
   "outputs": [
    {
     "data": {
      "text/plain": [
       "False"
      ]
     },
     "execution_count": 101,
     "metadata": {},
     "output_type": "execute_result"
    }
   ],
   "source": [
    "sr = pd.Series([1, 6, 3, 9])\n",
    "sr.is_monotonic_increasing #is_monotonic 오류났음...ㅠㅠ"
   ]
  },
  {
   "cell_type": "code",
   "execution_count": 103,
   "id": "06fa302f-95b8-4f13-97a6-167c0df17ff4",
   "metadata": {
    "scrolled": true
   },
   "outputs": [
    {
     "data": {
      "text/plain": [
       "0    1\n",
       "1    6\n",
       "dtype: int64"
      ]
     },
     "execution_count": 103,
     "metadata": {},
     "output_type": "execute_result"
    }
   ],
   "source": [
    "sr.head(2) #데이터가 많을 때 유용 (앞에서부터 n만큼 보여준다.)"
   ]
  },
  {
   "cell_type": "code",
   "execution_count": 104,
   "id": "03fa0ca7-9623-4871-9c30-37c19e8f96b1",
   "metadata": {},
   "outputs": [
    {
     "data": {
      "text/plain": [
       "2    3\n",
       "3    9\n",
       "dtype: int64"
      ]
     },
     "execution_count": 104,
     "metadata": {},
     "output_type": "execute_result"
    }
   ],
   "source": [
    "sr.tail(2) #데이터의 일부분을 볼 때 (뒤에서부터 n만큼 보여준다.)"
   ]
  },
  {
   "cell_type": "code",
   "execution_count": 105,
   "id": "9fec8342-aef9-4a00-b12b-40a2030dab42",
   "metadata": {},
   "outputs": [
    {
     "data": {
      "text/plain": [
       "<bound method Series.count of 0    1\n",
       "1    6\n",
       "2    3\n",
       "3    9\n",
       "dtype: int64>"
      ]
     },
     "execution_count": 105,
     "metadata": {},
     "output_type": "execute_result"
    }
   ],
   "source": [
    "# nan은 빼고 출력\n",
    "sr.count"
   ]
  },
  {
   "cell_type": "code",
   "execution_count": 106,
   "id": "17e7aede-4376-42b9-9178-764c9dde6c7a",
   "metadata": {},
   "outputs": [
    {
     "data": {
      "text/plain": [
       "19"
      ]
     },
     "execution_count": 106,
     "metadata": {},
     "output_type": "execute_result"
    }
   ],
   "source": [
    "#sr.sum(skipna=True)"
   ]
  },
  {
   "cell_type": "code",
   "execution_count": 108,
   "id": "a1a948f3-b1c8-4d17-92ce-56a22942b038",
   "metadata": {},
   "outputs": [
    {
     "data": {
      "text/plain": [
       "19"
      ]
     },
     "execution_count": 108,
     "metadata": {},
     "output_type": "execute_result"
    }
   ],
   "source": [
    "sr.sum(skipna=False, numeric_only = False)"
   ]
  },
  {
   "cell_type": "code",
   "execution_count": null,
   "id": "e8ec74b1-b38c-4105-b889-4e98736b3850",
   "metadata": {},
   "outputs": [],
   "source": []
  }
 ],
 "metadata": {
  "kernelspec": {
   "display_name": "Python 3 (ipykernel)",
   "language": "python",
   "name": "python3"
  },
  "language_info": {
   "codemirror_mode": {
    "name": "ipython",
    "version": 3
   },
   "file_extension": ".py",
   "mimetype": "text/x-python",
   "name": "python",
   "nbconvert_exporter": "python",
   "pygments_lexer": "ipython3",
   "version": "3.8.18"
  }
 },
 "nbformat": 4,
 "nbformat_minor": 5
}
