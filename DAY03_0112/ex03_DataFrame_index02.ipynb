{
 "cells": [
  {
   "cell_type": "markdown",
   "id": "b147653e-55db-4765-9dad-ad769749700a",
   "metadata": {},
   "source": [
    "## [DataFrame 인덱스 다루기]"
   ]
  },
  {
   "cell_type": "markdown",
   "id": "5061052b-7cd4-4c5d-bbc9-508d726b310e",
   "metadata": {},
   "source": [
    "(1) 모듈 로딩 <hr>"
   ]
  },
  {
   "cell_type": "code",
   "execution_count": 46,
   "id": "ca767a04-816e-42a8-8c19-b1b3e367bb6f",
   "metadata": {},
   "outputs": [],
   "source": [
    "import pandas as pd"
   ]
  },
  {
   "cell_type": "markdown",
   "id": "5aa27e76-7a14-42fd-8a78-e7dadde6815a",
   "metadata": {},
   "source": [
    "(2) 데이터 준비 <hr>"
   ]
  },
  {
   "cell_type": "code",
   "execution_count": 47,
   "id": "bff150eb-b6e9-453a-91f4-2dba07001200",
   "metadata": {},
   "outputs": [],
   "source": [
    "#DataFrame() 함수로 데이터 프레임 변환. 변수 df에 저장.\n",
    "#dict 타입의 데이터 생성.\n",
    "exam = {'이름' : [ 'Peter Parker', 'MJ', 'Ned', 'Harry Potter'],\n",
    "\n",
    "'국어' : [ 100, 94, 95, 32],\n",
    "'미술' : [ 42, 89, 95, 100],\n",
    "'수학' : [ 98, 95, 54, 65],\n",
    "'체육' : [ 98, 90, 43, 100]}"
   ]
  },
  {
   "cell_type": "markdown",
   "id": "b239683b-e5b1-4206-a73f-3f48477ee83a",
   "metadata": {},
   "source": [
    "(3) 데이터 저장 <hr>"
   ]
  },
  {
   "cell_type": "code",
   "execution_count": 48,
   "id": "e1ab8664-074c-40e3-83d1-aec83ee16d59",
   "metadata": {},
   "outputs": [],
   "source": [
    "examDF=pd.DataFrame(exam)"
   ]
  },
  {
   "cell_type": "markdown",
   "id": "bd337c94-926a-41e3-a30a-1c067a7b231c",
   "metadata": {},
   "source": [
    "(4) 데이터 확인"
   ]
  },
  {
   "cell_type": "code",
   "execution_count": 49,
   "id": "b9cd055e-a232-4369-8f49-e2df65c798dd",
   "metadata": {},
   "outputs": [
    {
     "data": {
      "text/html": [
       "<div>\n",
       "<style scoped>\n",
       "    .dataframe tbody tr th:only-of-type {\n",
       "        vertical-align: middle;\n",
       "    }\n",
       "\n",
       "    .dataframe tbody tr th {\n",
       "        vertical-align: top;\n",
       "    }\n",
       "\n",
       "    .dataframe thead th {\n",
       "        text-align: right;\n",
       "    }\n",
       "</style>\n",
       "<table border=\"1\" class=\"dataframe\">\n",
       "  <thead>\n",
       "    <tr style=\"text-align: right;\">\n",
       "      <th></th>\n",
       "      <th>이름</th>\n",
       "      <th>국어</th>\n",
       "      <th>미술</th>\n",
       "      <th>수학</th>\n",
       "      <th>체육</th>\n",
       "    </tr>\n",
       "  </thead>\n",
       "  <tbody>\n",
       "    <tr>\n",
       "      <th>0</th>\n",
       "      <td>Peter Parker</td>\n",
       "      <td>100</td>\n",
       "      <td>42</td>\n",
       "      <td>98</td>\n",
       "      <td>98</td>\n",
       "    </tr>\n",
       "    <tr>\n",
       "      <th>1</th>\n",
       "      <td>MJ</td>\n",
       "      <td>94</td>\n",
       "      <td>89</td>\n",
       "      <td>95</td>\n",
       "      <td>90</td>\n",
       "    </tr>\n",
       "    <tr>\n",
       "      <th>2</th>\n",
       "      <td>Ned</td>\n",
       "      <td>95</td>\n",
       "      <td>95</td>\n",
       "      <td>54</td>\n",
       "      <td>43</td>\n",
       "    </tr>\n",
       "    <tr>\n",
       "      <th>3</th>\n",
       "      <td>Harry Potter</td>\n",
       "      <td>32</td>\n",
       "      <td>100</td>\n",
       "      <td>65</td>\n",
       "      <td>100</td>\n",
       "    </tr>\n",
       "  </tbody>\n",
       "</table>\n",
       "</div>"
      ],
      "text/plain": [
       "             이름   국어   미술  수학   체육\n",
       "0  Peter Parker  100   42  98   98\n",
       "1            MJ   94   89  95   90\n",
       "2           Ned   95   95  54   43\n",
       "3  Harry Potter   32  100  65  100"
      ]
     },
     "execution_count": 49,
     "metadata": {},
     "output_type": "execute_result"
    }
   ],
   "source": [
    "examDF"
   ]
  },
  {
   "cell_type": "markdown",
   "id": "f5c0384e-6152-4725-9b3b-f272c8be579d",
   "metadata": {},
   "source": [
    "- 행 데이터 추가"
   ]
  },
  {
   "cell_type": "code",
   "execution_count": 50,
   "id": "ed1cce1a-cd00-4b93-a641-f00fa9d2efde",
   "metadata": {},
   "outputs": [],
   "source": [
    "# 마징가 98 50 60 77"
   ]
  },
  {
   "cell_type": "code",
   "execution_count": 51,
   "id": "be75e1b7-da0e-4c18-80b1-f05365d6bf29",
   "metadata": {},
   "outputs": [],
   "source": [
    "examDF.loc[4] = ['Peter Parker', 100, 50, 60, 98]"
   ]
  },
  {
   "cell_type": "code",
   "execution_count": 52,
   "id": "8d764590-06d9-46ea-97bc-e5d1c8b4f499",
   "metadata": {},
   "outputs": [],
   "source": [
    "examDF.loc[5] = ['Peter Parker', 100, 54, 98, 91]"
   ]
  },
  {
   "cell_type": "code",
   "execution_count": 53,
   "id": "bf28276a-b737-4dda-9041-7e6463483c2e",
   "metadata": {},
   "outputs": [
    {
     "data": {
      "text/html": [
       "<div>\n",
       "<style scoped>\n",
       "    .dataframe tbody tr th:only-of-type {\n",
       "        vertical-align: middle;\n",
       "    }\n",
       "\n",
       "    .dataframe tbody tr th {\n",
       "        vertical-align: top;\n",
       "    }\n",
       "\n",
       "    .dataframe thead th {\n",
       "        text-align: right;\n",
       "    }\n",
       "</style>\n",
       "<table border=\"1\" class=\"dataframe\">\n",
       "  <thead>\n",
       "    <tr style=\"text-align: right;\">\n",
       "      <th></th>\n",
       "      <th>이름</th>\n",
       "      <th>국어</th>\n",
       "      <th>미술</th>\n",
       "      <th>수학</th>\n",
       "      <th>체육</th>\n",
       "    </tr>\n",
       "  </thead>\n",
       "  <tbody>\n",
       "    <tr>\n",
       "      <th>0</th>\n",
       "      <td>Peter Parker</td>\n",
       "      <td>100</td>\n",
       "      <td>42</td>\n",
       "      <td>98</td>\n",
       "      <td>98</td>\n",
       "    </tr>\n",
       "    <tr>\n",
       "      <th>1</th>\n",
       "      <td>MJ</td>\n",
       "      <td>94</td>\n",
       "      <td>89</td>\n",
       "      <td>95</td>\n",
       "      <td>90</td>\n",
       "    </tr>\n",
       "    <tr>\n",
       "      <th>2</th>\n",
       "      <td>Ned</td>\n",
       "      <td>95</td>\n",
       "      <td>95</td>\n",
       "      <td>54</td>\n",
       "      <td>43</td>\n",
       "    </tr>\n",
       "    <tr>\n",
       "      <th>3</th>\n",
       "      <td>Harry Potter</td>\n",
       "      <td>32</td>\n",
       "      <td>100</td>\n",
       "      <td>65</td>\n",
       "      <td>100</td>\n",
       "    </tr>\n",
       "    <tr>\n",
       "      <th>4</th>\n",
       "      <td>Peter Parker</td>\n",
       "      <td>100</td>\n",
       "      <td>50</td>\n",
       "      <td>60</td>\n",
       "      <td>98</td>\n",
       "    </tr>\n",
       "    <tr>\n",
       "      <th>5</th>\n",
       "      <td>Peter Parker</td>\n",
       "      <td>100</td>\n",
       "      <td>54</td>\n",
       "      <td>98</td>\n",
       "      <td>91</td>\n",
       "    </tr>\n",
       "  </tbody>\n",
       "</table>\n",
       "</div>"
      ],
      "text/plain": [
       "             이름   국어   미술  수학   체육\n",
       "0  Peter Parker  100   42  98   98\n",
       "1            MJ   94   89  95   90\n",
       "2           Ned   95   95  54   43\n",
       "3  Harry Potter   32  100  65  100\n",
       "4  Peter Parker  100   50  60   98\n",
       "5  Peter Parker  100   54  98   91"
      ]
     },
     "execution_count": 53,
     "metadata": {},
     "output_type": "execute_result"
    }
   ],
   "source": [
    "examDF"
   ]
  },
  {
   "cell_type": "markdown",
   "id": "96b980d9-d934-4f82-9407-af26024731d8",
   "metadata": {},
   "source": [
    "(5) 새로운 인덱스 설정 - 방법 3 : 멀티인덱스 제어 DF.set_index([컬럼1, 컬럼2,..., 컬럼n])"
   ]
  },
  {
   "cell_type": "code",
   "execution_count": 54,
   "id": "286ea5ea-0b45-45da-996d-92157352ffb8",
   "metadata": {},
   "outputs": [
    {
     "data": {
      "text/html": [
       "<div>\n",
       "<style scoped>\n",
       "    .dataframe tbody tr th:only-of-type {\n",
       "        vertical-align: middle;\n",
       "    }\n",
       "\n",
       "    .dataframe tbody tr th {\n",
       "        vertical-align: top;\n",
       "    }\n",
       "\n",
       "    .dataframe thead th {\n",
       "        text-align: right;\n",
       "    }\n",
       "</style>\n",
       "<table border=\"1\" class=\"dataframe\">\n",
       "  <thead>\n",
       "    <tr style=\"text-align: right;\">\n",
       "      <th></th>\n",
       "      <th></th>\n",
       "      <th></th>\n",
       "      <th>미술</th>\n",
       "      <th>체육</th>\n",
       "    </tr>\n",
       "    <tr>\n",
       "      <th>이름</th>\n",
       "      <th>국어</th>\n",
       "      <th>수학</th>\n",
       "      <th></th>\n",
       "      <th></th>\n",
       "    </tr>\n",
       "  </thead>\n",
       "  <tbody>\n",
       "    <tr>\n",
       "      <th>Peter Parker</th>\n",
       "      <th>100</th>\n",
       "      <th>98</th>\n",
       "      <td>42</td>\n",
       "      <td>98</td>\n",
       "    </tr>\n",
       "    <tr>\n",
       "      <th>MJ</th>\n",
       "      <th>94</th>\n",
       "      <th>95</th>\n",
       "      <td>89</td>\n",
       "      <td>90</td>\n",
       "    </tr>\n",
       "    <tr>\n",
       "      <th>Ned</th>\n",
       "      <th>95</th>\n",
       "      <th>54</th>\n",
       "      <td>95</td>\n",
       "      <td>43</td>\n",
       "    </tr>\n",
       "    <tr>\n",
       "      <th>Harry Potter</th>\n",
       "      <th>32</th>\n",
       "      <th>65</th>\n",
       "      <td>100</td>\n",
       "      <td>100</td>\n",
       "    </tr>\n",
       "    <tr>\n",
       "      <th rowspan=\"2\" valign=\"top\">Peter Parker</th>\n",
       "      <th rowspan=\"2\" valign=\"top\">100</th>\n",
       "      <th>60</th>\n",
       "      <td>50</td>\n",
       "      <td>98</td>\n",
       "    </tr>\n",
       "    <tr>\n",
       "      <th>98</th>\n",
       "      <td>54</td>\n",
       "      <td>91</td>\n",
       "    </tr>\n",
       "  </tbody>\n",
       "</table>\n",
       "</div>"
      ],
      "text/plain": [
       "                      미술   체육\n",
       "이름           국어  수학          \n",
       "Peter Parker 100 98   42   98\n",
       "MJ           94  95   89   90\n",
       "Ned          95  54   95   43\n",
       "Harry Potter 32  65  100  100\n",
       "Peter Parker 100 60   50   98\n",
       "                 98   54   91"
      ]
     },
     "execution_count": 54,
     "metadata": {},
     "output_type": "execute_result"
    }
   ],
   "source": [
    "# 이름, 국어, 수학을 인덱스 설정\n",
    "examDF.set_index(['이름', '국어', '수학'])"
   ]
  },
  {
   "cell_type": "code",
   "execution_count": 55,
   "id": "c8849251-719a-4fae-b2bc-c6820754e06c",
   "metadata": {},
   "outputs": [
    {
     "data": {
      "text/html": [
       "<div>\n",
       "<style scoped>\n",
       "    .dataframe tbody tr th:only-of-type {\n",
       "        vertical-align: middle;\n",
       "    }\n",
       "\n",
       "    .dataframe tbody tr th {\n",
       "        vertical-align: top;\n",
       "    }\n",
       "\n",
       "    .dataframe thead th {\n",
       "        text-align: right;\n",
       "    }\n",
       "</style>\n",
       "<table border=\"1\" class=\"dataframe\">\n",
       "  <thead>\n",
       "    <tr style=\"text-align: right;\">\n",
       "      <th></th>\n",
       "      <th></th>\n",
       "      <th></th>\n",
       "      <th>미술</th>\n",
       "      <th>체육</th>\n",
       "    </tr>\n",
       "    <tr>\n",
       "      <th>이름</th>\n",
       "      <th>국어</th>\n",
       "      <th>수학</th>\n",
       "      <th></th>\n",
       "      <th></th>\n",
       "    </tr>\n",
       "  </thead>\n",
       "  <tbody>\n",
       "    <tr>\n",
       "      <th>Peter Parker</th>\n",
       "      <th>100</th>\n",
       "      <th>98</th>\n",
       "      <td>42</td>\n",
       "      <td>98</td>\n",
       "    </tr>\n",
       "    <tr>\n",
       "      <th>MJ</th>\n",
       "      <th>94</th>\n",
       "      <th>95</th>\n",
       "      <td>89</td>\n",
       "      <td>90</td>\n",
       "    </tr>\n",
       "    <tr>\n",
       "      <th>Ned</th>\n",
       "      <th>95</th>\n",
       "      <th>54</th>\n",
       "      <td>95</td>\n",
       "      <td>43</td>\n",
       "    </tr>\n",
       "    <tr>\n",
       "      <th>Harry Potter</th>\n",
       "      <th>32</th>\n",
       "      <th>65</th>\n",
       "      <td>100</td>\n",
       "      <td>100</td>\n",
       "    </tr>\n",
       "    <tr>\n",
       "      <th rowspan=\"2\" valign=\"top\">Peter Parker</th>\n",
       "      <th rowspan=\"2\" valign=\"top\">100</th>\n",
       "      <th>60</th>\n",
       "      <td>50</td>\n",
       "      <td>98</td>\n",
       "    </tr>\n",
       "    <tr>\n",
       "      <th>98</th>\n",
       "      <td>54</td>\n",
       "      <td>91</td>\n",
       "    </tr>\n",
       "  </tbody>\n",
       "</table>\n",
       "</div>"
      ],
      "text/plain": [
       "                      미술   체육\n",
       "이름           국어  수학          \n",
       "Peter Parker 100 98   42   98\n",
       "MJ           94  95   89   90\n",
       "Ned          95  54   95   43\n",
       "Harry Potter 32  65  100  100\n",
       "Peter Parker 100 60   50   98\n",
       "                 98   54   91"
      ]
     },
     "execution_count": 55,
     "metadata": {},
     "output_type": "execute_result"
    }
   ],
   "source": [
    "examDF1 = examDF.set_index(['이름', '국어', '수학'])\n",
    "examDF1"
   ]
  },
  {
   "cell_type": "code",
   "execution_count": 56,
   "id": "9670bc11-ac63-40b4-ad7a-ff24aef7e836",
   "metadata": {},
   "outputs": [
    {
     "data": {
      "text/plain": [
       "MultiIndex([('Peter Parker', 100, 98),\n",
       "            (          'MJ',  94, 95),\n",
       "            (         'Ned',  95, 54),\n",
       "            ('Harry Potter',  32, 65),\n",
       "            ('Peter Parker', 100, 60),\n",
       "            ('Peter Parker', 100, 98)],\n",
       "           names=['이름', '국어', '수학'])"
      ]
     },
     "execution_count": 56,
     "metadata": {},
     "output_type": "execute_result"
    }
   ],
   "source": [
    "examDF1.index"
   ]
  },
  {
   "cell_type": "markdown",
   "id": "6bb95fa0-5d75-435f-a2bf-17868a2b8785",
   "metadata": {},
   "source": [
    "- 행 데이터 선택 : DF 객체변수명.loc[행레이블] / DF객체변수명.iloc[위치인덱스]"
   ]
  },
  {
   "cell_type": "code",
   "execution_count": 57,
   "id": "845a0801-96ee-4559-a561-6ce3fbbadff4",
   "metadata": {},
   "outputs": [],
   "source": [
    "# 행 인덱스 일부 변경 => {기존인덱스 : 새 인덱스}\n",
    "# inplace 매개변수/파라미터 => 원본 DataFrame의 변경 여부 결정, ※기본은 원본 변경 안함. (False.)\n",
    "#examDF.rename(index = {0:'★'}, inplace =True) # 원본데이터를 변경하지 않는다. inplace 기본값 False"
   ]
  },
  {
   "cell_type": "code",
   "execution_count": 58,
   "id": "c5307636-f3af-4da5-b68f-c1833673f4bd",
   "metadata": {},
   "outputs": [
    {
     "name": "stderr",
     "output_type": "stream",
     "text": [
      "C:\\Users\\KDP-024\\AppData\\Local\\Temp\\ipykernel_2680\\531337903.py:1: PerformanceWarning: indexing past lexsort depth may impact performance.\n",
      "  examDF1.loc[('Peter Parker', 100, 98)]\n"
     ]
    },
    {
     "data": {
      "text/html": [
       "<div>\n",
       "<style scoped>\n",
       "    .dataframe tbody tr th:only-of-type {\n",
       "        vertical-align: middle;\n",
       "    }\n",
       "\n",
       "    .dataframe tbody tr th {\n",
       "        vertical-align: top;\n",
       "    }\n",
       "\n",
       "    .dataframe thead th {\n",
       "        text-align: right;\n",
       "    }\n",
       "</style>\n",
       "<table border=\"1\" class=\"dataframe\">\n",
       "  <thead>\n",
       "    <tr style=\"text-align: right;\">\n",
       "      <th></th>\n",
       "      <th></th>\n",
       "      <th></th>\n",
       "      <th>미술</th>\n",
       "      <th>체육</th>\n",
       "    </tr>\n",
       "    <tr>\n",
       "      <th>이름</th>\n",
       "      <th>국어</th>\n",
       "      <th>수학</th>\n",
       "      <th></th>\n",
       "      <th></th>\n",
       "    </tr>\n",
       "  </thead>\n",
       "  <tbody>\n",
       "    <tr>\n",
       "      <th rowspan=\"2\" valign=\"top\">Peter Parker</th>\n",
       "      <th rowspan=\"2\" valign=\"top\">100</th>\n",
       "      <th>98</th>\n",
       "      <td>42</td>\n",
       "      <td>98</td>\n",
       "    </tr>\n",
       "    <tr>\n",
       "      <th>98</th>\n",
       "      <td>54</td>\n",
       "      <td>91</td>\n",
       "    </tr>\n",
       "  </tbody>\n",
       "</table>\n",
       "</div>"
      ],
      "text/plain": [
       "                     미술  체육\n",
       "이름           국어  수학        \n",
       "Peter Parker 100 98  42  98\n",
       "                 98  54  91"
      ]
     },
     "execution_count": 58,
     "metadata": {},
     "output_type": "execute_result"
    }
   ],
   "source": [
    "examDF1.loc[('Peter Parker', 100, 98)]"
   ]
  },
  {
   "cell_type": "code",
   "execution_count": 59,
   "id": "3b6aa3d0-b456-45f7-92cb-553bfe9dc60d",
   "metadata": {},
   "outputs": [
    {
     "name": "stderr",
     "output_type": "stream",
     "text": [
      "C:\\Users\\KDP-024\\AppData\\Local\\Temp\\ipykernel_2680\\3720945078.py:1: PerformanceWarning: indexing past lexsort depth may impact performance.\n",
      "  examDF1.loc[('Peter Parker', 100, 60)]\n"
     ]
    },
    {
     "data": {
      "text/html": [
       "<div>\n",
       "<style scoped>\n",
       "    .dataframe tbody tr th:only-of-type {\n",
       "        vertical-align: middle;\n",
       "    }\n",
       "\n",
       "    .dataframe tbody tr th {\n",
       "        vertical-align: top;\n",
       "    }\n",
       "\n",
       "    .dataframe thead th {\n",
       "        text-align: right;\n",
       "    }\n",
       "</style>\n",
       "<table border=\"1\" class=\"dataframe\">\n",
       "  <thead>\n",
       "    <tr style=\"text-align: right;\">\n",
       "      <th></th>\n",
       "      <th></th>\n",
       "      <th></th>\n",
       "      <th>미술</th>\n",
       "      <th>체육</th>\n",
       "    </tr>\n",
       "    <tr>\n",
       "      <th>이름</th>\n",
       "      <th>국어</th>\n",
       "      <th>수학</th>\n",
       "      <th></th>\n",
       "      <th></th>\n",
       "    </tr>\n",
       "  </thead>\n",
       "  <tbody>\n",
       "    <tr>\n",
       "      <th>Peter Parker</th>\n",
       "      <th>100</th>\n",
       "      <th>60</th>\n",
       "      <td>50</td>\n",
       "      <td>98</td>\n",
       "    </tr>\n",
       "  </tbody>\n",
       "</table>\n",
       "</div>"
      ],
      "text/plain": [
       "                     미술  체육\n",
       "이름           국어  수학        \n",
       "Peter Parker 100 60  50  98"
      ]
     },
     "execution_count": 59,
     "metadata": {},
     "output_type": "execute_result"
    }
   ],
   "source": [
    "examDF1.loc[('Peter Parker', 100, 60)]"
   ]
  },
  {
   "cell_type": "code",
   "execution_count": 60,
   "id": "c69aca67-ae60-43d1-a042-bad7ad78f124",
   "metadata": {},
   "outputs": [],
   "source": [
    "#keyError 발생 => \n",
    "#examDF.loc[(98)]"
   ]
  },
  {
   "cell_type": "markdown",
   "id": "3d760c0b-e164-4cec-a857-4a1b7afce5a2",
   "metadata": {},
   "source": [
    "- 멀티 인덱스의 인덱스의 일부분을 기준으로 행 선택 : xs()\n",
    "   * 예) 'Peter Parker' 100 98 => Level 0 1 2"
   ]
  },
  {
   "cell_type": "code",
   "execution_count": 61,
   "id": "83f8d742-cb4e-400d-8e89-5cfb4c2a16b9",
   "metadata": {},
   "outputs": [
    {
     "data": {
      "text/html": [
       "<div>\n",
       "<style scoped>\n",
       "    .dataframe tbody tr th:only-of-type {\n",
       "        vertical-align: middle;\n",
       "    }\n",
       "\n",
       "    .dataframe tbody tr th {\n",
       "        vertical-align: top;\n",
       "    }\n",
       "\n",
       "    .dataframe thead th {\n",
       "        text-align: right;\n",
       "    }\n",
       "</style>\n",
       "<table border=\"1\" class=\"dataframe\">\n",
       "  <thead>\n",
       "    <tr style=\"text-align: right;\">\n",
       "      <th></th>\n",
       "      <th></th>\n",
       "      <th>미술</th>\n",
       "      <th>체육</th>\n",
       "    </tr>\n",
       "    <tr>\n",
       "      <th>국어</th>\n",
       "      <th>수학</th>\n",
       "      <th></th>\n",
       "      <th></th>\n",
       "    </tr>\n",
       "  </thead>\n",
       "  <tbody>\n",
       "    <tr>\n",
       "      <th rowspan=\"3\" valign=\"top\">100</th>\n",
       "      <th>98</th>\n",
       "      <td>42</td>\n",
       "      <td>98</td>\n",
       "    </tr>\n",
       "    <tr>\n",
       "      <th>60</th>\n",
       "      <td>50</td>\n",
       "      <td>98</td>\n",
       "    </tr>\n",
       "    <tr>\n",
       "      <th>98</th>\n",
       "      <td>54</td>\n",
       "      <td>91</td>\n",
       "    </tr>\n",
       "  </tbody>\n",
       "</table>\n",
       "</div>"
      ],
      "text/plain": [
       "        미술  체육\n",
       "국어  수학        \n",
       "100 98  42  98\n",
       "    60  50  98\n",
       "    98  54  91"
      ]
     },
     "execution_count": 61,
     "metadata": {},
     "output_type": "execute_result"
    }
   ],
   "source": [
    "examDF1.xs('Peter Parker', level = 0)"
   ]
  },
  {
   "cell_type": "code",
   "execution_count": 62,
   "id": "aa7cc454-5482-49d3-8b3f-6530c567d6f6",
   "metadata": {},
   "outputs": [
    {
     "data": {
      "text/html": [
       "<div>\n",
       "<style scoped>\n",
       "    .dataframe tbody tr th:only-of-type {\n",
       "        vertical-align: middle;\n",
       "    }\n",
       "\n",
       "    .dataframe tbody tr th {\n",
       "        vertical-align: top;\n",
       "    }\n",
       "\n",
       "    .dataframe thead th {\n",
       "        text-align: right;\n",
       "    }\n",
       "</style>\n",
       "<table border=\"1\" class=\"dataframe\">\n",
       "  <thead>\n",
       "    <tr style=\"text-align: right;\">\n",
       "      <th></th>\n",
       "      <th></th>\n",
       "      <th>미술</th>\n",
       "      <th>체육</th>\n",
       "    </tr>\n",
       "    <tr>\n",
       "      <th>이름</th>\n",
       "      <th>수학</th>\n",
       "      <th></th>\n",
       "      <th></th>\n",
       "    </tr>\n",
       "  </thead>\n",
       "  <tbody>\n",
       "    <tr>\n",
       "      <th rowspan=\"3\" valign=\"top\">Peter Parker</th>\n",
       "      <th>98</th>\n",
       "      <td>42</td>\n",
       "      <td>98</td>\n",
       "    </tr>\n",
       "    <tr>\n",
       "      <th>60</th>\n",
       "      <td>50</td>\n",
       "      <td>98</td>\n",
       "    </tr>\n",
       "    <tr>\n",
       "      <th>98</th>\n",
       "      <td>54</td>\n",
       "      <td>91</td>\n",
       "    </tr>\n",
       "  </tbody>\n",
       "</table>\n",
       "</div>"
      ],
      "text/plain": [
       "                 미술  체육\n",
       "이름           수학        \n",
       "Peter Parker 98  42  98\n",
       "             60  50  98\n",
       "             98  54  91"
      ]
     },
     "execution_count": 62,
     "metadata": {},
     "output_type": "execute_result"
    }
   ],
   "source": [
    "examDF1.xs(100, level = 1)"
   ]
  },
  {
   "cell_type": "code",
   "execution_count": 64,
   "id": "be06d127-783c-4847-96cc-bddc9681c9ed",
   "metadata": {},
   "outputs": [
    {
     "data": {
      "text/html": [
       "<div>\n",
       "<style scoped>\n",
       "    .dataframe tbody tr th:only-of-type {\n",
       "        vertical-align: middle;\n",
       "    }\n",
       "\n",
       "    .dataframe tbody tr th {\n",
       "        vertical-align: top;\n",
       "    }\n",
       "\n",
       "    .dataframe thead th {\n",
       "        text-align: right;\n",
       "    }\n",
       "</style>\n",
       "<table border=\"1\" class=\"dataframe\">\n",
       "  <thead>\n",
       "    <tr style=\"text-align: right;\">\n",
       "      <th></th>\n",
       "      <th></th>\n",
       "      <th>미술</th>\n",
       "      <th>체육</th>\n",
       "    </tr>\n",
       "    <tr>\n",
       "      <th>이름</th>\n",
       "      <th>수학</th>\n",
       "      <th></th>\n",
       "      <th></th>\n",
       "    </tr>\n",
       "  </thead>\n",
       "  <tbody>\n",
       "    <tr>\n",
       "      <th>Harry Potter</th>\n",
       "      <th>65</th>\n",
       "      <td>100</td>\n",
       "      <td>100</td>\n",
       "    </tr>\n",
       "  </tbody>\n",
       "</table>\n",
       "</div>"
      ],
      "text/plain": [
       "                  미술   체육\n",
       "이름           수학          \n",
       "Harry Potter 65  100  100"
      ]
     },
     "execution_count": 64,
     "metadata": {},
     "output_type": "execute_result"
    }
   ],
   "source": [
    "examDF1.xs(32, level = 1)"
   ]
  },
  {
   "cell_type": "markdown",
   "id": "dbd428b4-3ceb-4cf0-b469-a89d06a73abd",
   "metadata": {},
   "source": [
    "- ('마징가', 98, 77), ('임꺽정', 100, 72) 2개 행을 한꺼번에 가져오기. => 여러 개를 가져와야 할 때는 리스트 사용"
   ]
  },
  {
   "cell_type": "code",
   "execution_count": 67,
   "id": "6a393fd0-cf62-458b-abbf-7f0f24ac20e7",
   "metadata": {},
   "outputs": [
    {
     "data": {
      "text/html": [
       "<div>\n",
       "<style scoped>\n",
       "    .dataframe tbody tr th:only-of-type {\n",
       "        vertical-align: middle;\n",
       "    }\n",
       "\n",
       "    .dataframe tbody tr th {\n",
       "        vertical-align: top;\n",
       "    }\n",
       "\n",
       "    .dataframe thead th {\n",
       "        text-align: right;\n",
       "    }\n",
       "</style>\n",
       "<table border=\"1\" class=\"dataframe\">\n",
       "  <thead>\n",
       "    <tr style=\"text-align: right;\">\n",
       "      <th></th>\n",
       "      <th></th>\n",
       "      <th></th>\n",
       "      <th>미술</th>\n",
       "      <th>체육</th>\n",
       "    </tr>\n",
       "    <tr>\n",
       "      <th>이름</th>\n",
       "      <th>국어</th>\n",
       "      <th>수학</th>\n",
       "      <th></th>\n",
       "      <th></th>\n",
       "    </tr>\n",
       "  </thead>\n",
       "  <tbody>\n",
       "    <tr>\n",
       "      <th rowspan=\"2\" valign=\"top\">Peter Parker</th>\n",
       "      <th rowspan=\"2\" valign=\"top\">100</th>\n",
       "      <th>98</th>\n",
       "      <td>42</td>\n",
       "      <td>98</td>\n",
       "    </tr>\n",
       "    <tr>\n",
       "      <th>98</th>\n",
       "      <td>54</td>\n",
       "      <td>91</td>\n",
       "    </tr>\n",
       "    <tr>\n",
       "      <th>Ned</th>\n",
       "      <th>95</th>\n",
       "      <th>54</th>\n",
       "      <td>95</td>\n",
       "      <td>43</td>\n",
       "    </tr>\n",
       "  </tbody>\n",
       "</table>\n",
       "</div>"
      ],
      "text/plain": [
       "                     미술  체육\n",
       "이름           국어  수학        \n",
       "Peter Parker 100 98  42  98\n",
       "                 98  54  91\n",
       "Ned          95  54  95  43"
      ]
     },
     "execution_count": 67,
     "metadata": {},
     "output_type": "execute_result"
    }
   ],
   "source": [
    "examDF1.loc[[('Peter Parker', 100, 98),('Ned',  95, 54)]]"
   ]
  },
  {
   "cell_type": "markdown",
   "id": "d345a3bd-cee0-4120-9140-a47fe954e71a",
   "metadata": {},
   "source": [
    "(5) 인덱스 재배치 : 행/열 인덱스를 원하는 순서대로 재비치 + 존재하지 않는 행 / 열 추가  \n",
    "     *  DF.reindex()  "
   ]
  },
  {
   "cell_type": "code",
   "execution_count": null,
   "id": "2dd15f42-0e13-4d78-b976-9616f7a470d2",
   "metadata": {},
   "outputs": [],
   "source": [
    "print(examDF.index, examDF.columns, sep = '\\n\\n')"
   ]
  },
  {
   "cell_type": "markdown",
   "id": "ac9aef63-7399-4ebc-9fa2-37ff48cf891f",
   "metadata": {},
   "source": [
    "- 컬럼명 순서 변경 ==> '체육', '미술', '국어', '수학', '총합'"
   ]
  },
  {
   "cell_type": "code",
   "execution_count": 68,
   "id": "6b9f0170-205c-4d3a-bfe9-7c51271df657",
   "metadata": {},
   "outputs": [
    {
     "data": {
      "text/html": [
       "<div>\n",
       "<style scoped>\n",
       "    .dataframe tbody tr th:only-of-type {\n",
       "        vertical-align: middle;\n",
       "    }\n",
       "\n",
       "    .dataframe tbody tr th {\n",
       "        vertical-align: top;\n",
       "    }\n",
       "\n",
       "    .dataframe thead th {\n",
       "        text-align: right;\n",
       "    }\n",
       "</style>\n",
       "<table border=\"1\" class=\"dataframe\">\n",
       "  <thead>\n",
       "    <tr style=\"text-align: right;\">\n",
       "      <th></th>\n",
       "      <th>체육</th>\n",
       "      <th>미술</th>\n",
       "      <th>국어</th>\n",
       "      <th>수학</th>\n",
       "      <th>총합</th>\n",
       "    </tr>\n",
       "  </thead>\n",
       "  <tbody>\n",
       "    <tr>\n",
       "      <th>0</th>\n",
       "      <td>98</td>\n",
       "      <td>42</td>\n",
       "      <td>100</td>\n",
       "      <td>98</td>\n",
       "      <td>0</td>\n",
       "    </tr>\n",
       "    <tr>\n",
       "      <th>1</th>\n",
       "      <td>90</td>\n",
       "      <td>89</td>\n",
       "      <td>94</td>\n",
       "      <td>95</td>\n",
       "      <td>0</td>\n",
       "    </tr>\n",
       "    <tr>\n",
       "      <th>2</th>\n",
       "      <td>43</td>\n",
       "      <td>95</td>\n",
       "      <td>95</td>\n",
       "      <td>54</td>\n",
       "      <td>0</td>\n",
       "    </tr>\n",
       "    <tr>\n",
       "      <th>3</th>\n",
       "      <td>100</td>\n",
       "      <td>100</td>\n",
       "      <td>32</td>\n",
       "      <td>65</td>\n",
       "      <td>0</td>\n",
       "    </tr>\n",
       "    <tr>\n",
       "      <th>4</th>\n",
       "      <td>98</td>\n",
       "      <td>50</td>\n",
       "      <td>100</td>\n",
       "      <td>60</td>\n",
       "      <td>0</td>\n",
       "    </tr>\n",
       "    <tr>\n",
       "      <th>5</th>\n",
       "      <td>91</td>\n",
       "      <td>54</td>\n",
       "      <td>100</td>\n",
       "      <td>98</td>\n",
       "      <td>0</td>\n",
       "    </tr>\n",
       "  </tbody>\n",
       "</table>\n",
       "</div>"
      ],
      "text/plain": [
       "    체육   미술   국어  수학  총합\n",
       "0   98   42  100  98   0\n",
       "1   90   89   94  95   0\n",
       "2   43   95   95  54   0\n",
       "3  100  100   32  65   0\n",
       "4   98   50  100  60   0\n",
       "5   91   54  100  98   0"
      ]
     },
     "execution_count": 68,
     "metadata": {},
     "output_type": "execute_result"
    }
   ],
   "source": [
    "examDF.reindex(['체육', '미술', '국어', '수학', '총합'], axis = 'columns', fill_value = 0) #원본 불변!"
   ]
  },
  {
   "cell_type": "markdown",
   "id": "79e24efa-8eaa-4035-97e9-511730ca95dc",
   "metadata": {},
   "source": [
    "- 행 인덱스 재배치 : 0,2,4,1,3,5"
   ]
  },
  {
   "cell_type": "code",
   "execution_count": 69,
   "id": "03ec88e6-f47b-4364-89eb-3cd257934a1b",
   "metadata": {},
   "outputs": [
    {
     "data": {
      "text/html": [
       "<div>\n",
       "<style scoped>\n",
       "    .dataframe tbody tr th:only-of-type {\n",
       "        vertical-align: middle;\n",
       "    }\n",
       "\n",
       "    .dataframe tbody tr th {\n",
       "        vertical-align: top;\n",
       "    }\n",
       "\n",
       "    .dataframe thead th {\n",
       "        text-align: right;\n",
       "    }\n",
       "</style>\n",
       "<table border=\"1\" class=\"dataframe\">\n",
       "  <thead>\n",
       "    <tr style=\"text-align: right;\">\n",
       "      <th></th>\n",
       "      <th>이름</th>\n",
       "      <th>국어</th>\n",
       "      <th>미술</th>\n",
       "      <th>수학</th>\n",
       "      <th>체육</th>\n",
       "    </tr>\n",
       "  </thead>\n",
       "  <tbody>\n",
       "    <tr>\n",
       "      <th>0</th>\n",
       "      <td>Peter Parker</td>\n",
       "      <td>100</td>\n",
       "      <td>42</td>\n",
       "      <td>98</td>\n",
       "      <td>98</td>\n",
       "    </tr>\n",
       "    <tr>\n",
       "      <th>2</th>\n",
       "      <td>Ned</td>\n",
       "      <td>95</td>\n",
       "      <td>95</td>\n",
       "      <td>54</td>\n",
       "      <td>43</td>\n",
       "    </tr>\n",
       "    <tr>\n",
       "      <th>4</th>\n",
       "      <td>Peter Parker</td>\n",
       "      <td>100</td>\n",
       "      <td>50</td>\n",
       "      <td>60</td>\n",
       "      <td>98</td>\n",
       "    </tr>\n",
       "    <tr>\n",
       "      <th>1</th>\n",
       "      <td>MJ</td>\n",
       "      <td>94</td>\n",
       "      <td>89</td>\n",
       "      <td>95</td>\n",
       "      <td>90</td>\n",
       "    </tr>\n",
       "    <tr>\n",
       "      <th>3</th>\n",
       "      <td>Harry Potter</td>\n",
       "      <td>32</td>\n",
       "      <td>100</td>\n",
       "      <td>65</td>\n",
       "      <td>100</td>\n",
       "    </tr>\n",
       "    <tr>\n",
       "      <th>5</th>\n",
       "      <td>Peter Parker</td>\n",
       "      <td>100</td>\n",
       "      <td>54</td>\n",
       "      <td>98</td>\n",
       "      <td>91</td>\n",
       "    </tr>\n",
       "  </tbody>\n",
       "</table>\n",
       "</div>"
      ],
      "text/plain": [
       "             이름   국어   미술  수학   체육\n",
       "0  Peter Parker  100   42  98   98\n",
       "2           Ned   95   95  54   43\n",
       "4  Peter Parker  100   50  60   98\n",
       "1            MJ   94   89  95   90\n",
       "3  Harry Potter   32  100  65  100\n",
       "5  Peter Parker  100   54  98   91"
      ]
     },
     "execution_count": 69,
     "metadata": {},
     "output_type": "execute_result"
    }
   ],
   "source": [
    "examDF.reindex([0,2,4,1,3,5], axis = 'index', fill_value =0)"
   ]
  },
  {
   "cell_type": "markdown",
   "id": "fa3c7ee9-7ba9-4650-b468-a2f08270dd2d",
   "metadata": {},
   "source": [
    "- 컬럼명 순서 변경 ==> 체육 미술 국어 수학 총합 + 행인덱스 => 0,2,4,1,3,5 재배치"
   ]
  },
  {
   "cell_type": "code",
   "execution_count": 71,
   "id": "73211c6a-5a3c-4dc2-81cf-c3465f404ee0",
   "metadata": {},
   "outputs": [
    {
     "data": {
      "text/html": [
       "<div>\n",
       "<style scoped>\n",
       "    .dataframe tbody tr th:only-of-type {\n",
       "        vertical-align: middle;\n",
       "    }\n",
       "\n",
       "    .dataframe tbody tr th {\n",
       "        vertical-align: top;\n",
       "    }\n",
       "\n",
       "    .dataframe thead th {\n",
       "        text-align: right;\n",
       "    }\n",
       "</style>\n",
       "<table border=\"1\" class=\"dataframe\">\n",
       "  <thead>\n",
       "    <tr style=\"text-align: right;\">\n",
       "      <th></th>\n",
       "      <th>체육</th>\n",
       "      <th>미술</th>\n",
       "      <th>국어</th>\n",
       "      <th>수학</th>\n",
       "      <th>총합</th>\n",
       "    </tr>\n",
       "  </thead>\n",
       "  <tbody>\n",
       "    <tr>\n",
       "      <th>0</th>\n",
       "      <td>98</td>\n",
       "      <td>42</td>\n",
       "      <td>100</td>\n",
       "      <td>98</td>\n",
       "      <td>0</td>\n",
       "    </tr>\n",
       "    <tr>\n",
       "      <th>2</th>\n",
       "      <td>43</td>\n",
       "      <td>95</td>\n",
       "      <td>95</td>\n",
       "      <td>54</td>\n",
       "      <td>0</td>\n",
       "    </tr>\n",
       "    <tr>\n",
       "      <th>4</th>\n",
       "      <td>98</td>\n",
       "      <td>50</td>\n",
       "      <td>100</td>\n",
       "      <td>60</td>\n",
       "      <td>0</td>\n",
       "    </tr>\n",
       "    <tr>\n",
       "      <th>1</th>\n",
       "      <td>90</td>\n",
       "      <td>89</td>\n",
       "      <td>94</td>\n",
       "      <td>95</td>\n",
       "      <td>0</td>\n",
       "    </tr>\n",
       "    <tr>\n",
       "      <th>3</th>\n",
       "      <td>100</td>\n",
       "      <td>100</td>\n",
       "      <td>32</td>\n",
       "      <td>65</td>\n",
       "      <td>0</td>\n",
       "    </tr>\n",
       "    <tr>\n",
       "      <th>5</th>\n",
       "      <td>91</td>\n",
       "      <td>54</td>\n",
       "      <td>100</td>\n",
       "      <td>98</td>\n",
       "      <td>0</td>\n",
       "    </tr>\n",
       "  </tbody>\n",
       "</table>\n",
       "</div>"
      ],
      "text/plain": [
       "    체육   미술   국어  수학  총합\n",
       "0   98   42  100  98   0\n",
       "2   43   95   95  54   0\n",
       "4   98   50  100  60   0\n",
       "1   90   89   94  95   0\n",
       "3  100  100   32  65   0\n",
       "5   91   54  100  98   0"
      ]
     },
     "execution_count": 71,
     "metadata": {},
     "output_type": "execute_result"
    }
   ],
   "source": [
    "examDF.reindex(index = [0,2,4,1,3,5], columns = ['체육', '미술', '국어', '수학', '총합'], fill_value = 0)"
   ]
  },
  {
   "cell_type": "code",
   "execution_count": null,
   "id": "3fe5079a-f27e-4966-a823-1d51c326b82a",
   "metadata": {},
   "outputs": [],
   "source": []
  },
  {
   "cell_type": "code",
   "execution_count": null,
   "id": "e2873280-75fa-40c1-9bf4-c4b385eec820",
   "metadata": {},
   "outputs": [],
   "source": []
  },
  {
   "cell_type": "code",
   "execution_count": null,
   "id": "65dfa594-c722-42a9-a864-b40b8e5593cb",
   "metadata": {
    "scrolled": true
   },
   "outputs": [],
   "source": []
  },
  {
   "cell_type": "markdown",
   "id": "7f0ede6b-822a-4067-b047-a7431f4b2f7f",
   "metadata": {},
   "source": [
    "- (5) 새로운 인덱스 설정 - 방법 3 :"
   ]
  },
  {
   "cell_type": "code",
   "execution_count": null,
   "id": "ea4c24e2-ca94-43e0-b8fa-446fb36b444e",
   "metadata": {},
   "outputs": [],
   "source": [
    "examDF.set_index('이름', inplace = True) # 원본 적용."
   ]
  },
  {
   "cell_type": "code",
   "execution_count": null,
   "id": "cc74b56d-3230-4075-a75b-fd232b14d9a3",
   "metadata": {},
   "outputs": [],
   "source": [
    "#현재 행 인덱스 ==> columns 추가\n",
    "df1 = examDF.reset_index() #reset_index는 행에 0, 1, 2, 3... 를 붙이는 것\n",
    "examDF.reset_index().reset_index().reset_index()"
   ]
  },
  {
   "cell_type": "code",
   "execution_count": null,
   "id": "1c77aa90-b106-49fd-8c40-6023388aa21d",
   "metadata": {},
   "outputs": [],
   "source": [
    "df1"
   ]
  },
  {
   "cell_type": "code",
   "execution_count": null,
   "id": "59ea82f2-402b-45fc-8564-b670114317cb",
   "metadata": {},
   "outputs": [],
   "source": [
    "#현재 행 인덱스를 컬럼에 추가하지 않고 삭제 => drop 파라미터를 True로 설정.\n",
    "df2 = examDF.reset_index(drop =True)"
   ]
  },
  {
   "cell_type": "code",
   "execution_count": null,
   "id": "02cd4373-4659-45d9-b9b6-2a449f103162",
   "metadata": {},
   "outputs": [],
   "source": [
    "df2"
   ]
  },
  {
   "cell_type": "code",
   "execution_count": null,
   "id": "b5fe635e-e139-415d-b805-83bd6d049eb5",
   "metadata": {},
   "outputs": [],
   "source": []
  }
 ],
 "metadata": {
  "kernelspec": {
   "display_name": "Python 3 (ipykernel)",
   "language": "python",
   "name": "python3"
  },
  "language_info": {
   "codemirror_mode": {
    "name": "ipython",
    "version": 3
   },
   "file_extension": ".py",
   "mimetype": "text/x-python",
   "name": "python",
   "nbconvert_exporter": "python",
   "pygments_lexer": "ipython3",
   "version": "3.8.18"
  }
 },
 "nbformat": 4,
 "nbformat_minor": 5
}
