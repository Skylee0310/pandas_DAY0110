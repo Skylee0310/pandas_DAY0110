{
 "cells": [
  {
   "cell_type": "markdown",
   "id": "49b07721-a2a6-4e24-bbf5-ba296ef659f1",
   "metadata": {},
   "source": [
    "## [DataFrame에 행/열 추가]"
   ]
  },
  {
   "cell_type": "markdown",
   "id": "d5a9ad99-bbd3-4d88-8dc1-73c8b4ce4177",
   "metadata": {},
   "source": [
    "(1) 모듈 로딩  <hr>"
   ]
  },
  {
   "cell_type": "code",
   "execution_count": 18,
   "id": "b8064f2e-e03a-4757-9e9f-7b63075ab5f3",
   "metadata": {},
   "outputs": [],
   "source": [
    "import pandas as pd"
   ]
  },
  {
   "cell_type": "markdown",
   "id": "c47b0d08-fbb1-435b-a3ee-8439d3763751",
   "metadata": {},
   "source": [
    "(2) 데이터 준비 <hr>"
   ]
  },
  {
   "cell_type": "code",
   "execution_count": 19,
   "id": "e0c76191-4d19-4de2-a6ac-69d154395712",
   "metadata": {},
   "outputs": [],
   "source": [
    "# dict 타입의 데이터 생성."
   ]
  },
  {
   "cell_type": "code",
   "execution_count": 20,
   "id": "efbb0b9b-16f7-48f8-af05-d9b9770bf1c1",
   "metadata": {},
   "outputs": [],
   "source": [
    "#DataFrame() 함수로 데이터 프레임 변환. 변수 df에 저장.\n",
    "exam = {'이름' : [ 'Peter Parker', 'MJ', 'Ned', 'Harry Potter'],\n",
    "\n",
    "'국어' : [ 100, 94, 95, 32],\n",
    "'미술' : [ 42, 89, 95, 100],\n",
    "'수학' : [ 85, 95, 54, 65],\n",
    "'체육' : [ 100, 90, 43, 100]}"
   ]
  },
  {
   "cell_type": "markdown",
   "id": "c48c8dc8-9a20-4673-8138-d28b94f4b761",
   "metadata": {},
   "source": [
    "(3) DataFrame에 데이터 저장하기"
   ]
  },
  {
   "cell_type": "code",
   "execution_count": 21,
   "id": "168b4858-b93b-4b6c-adf9-730555e9d52c",
   "metadata": {},
   "outputs": [],
   "source": [
    "examDF = pd.DataFrame(exam)"
   ]
  },
  {
   "cell_type": "code",
   "execution_count": 22,
   "id": "64b17495-c1c8-4c2c-a8c7-610001a275e8",
   "metadata": {},
   "outputs": [
    {
     "data": {
      "text/html": [
       "<div>\n",
       "<style scoped>\n",
       "    .dataframe tbody tr th:only-of-type {\n",
       "        vertical-align: middle;\n",
       "    }\n",
       "\n",
       "    .dataframe tbody tr th {\n",
       "        vertical-align: top;\n",
       "    }\n",
       "\n",
       "    .dataframe thead th {\n",
       "        text-align: right;\n",
       "    }\n",
       "</style>\n",
       "<table border=\"1\" class=\"dataframe\">\n",
       "  <thead>\n",
       "    <tr style=\"text-align: right;\">\n",
       "      <th></th>\n",
       "      <th>이름</th>\n",
       "      <th>국어</th>\n",
       "      <th>미술</th>\n",
       "      <th>수학</th>\n",
       "      <th>체육</th>\n",
       "    </tr>\n",
       "  </thead>\n",
       "  <tbody>\n",
       "    <tr>\n",
       "      <th>0</th>\n",
       "      <td>Peter Parker</td>\n",
       "      <td>100</td>\n",
       "      <td>42</td>\n",
       "      <td>85</td>\n",
       "      <td>100</td>\n",
       "    </tr>\n",
       "    <tr>\n",
       "      <th>1</th>\n",
       "      <td>MJ</td>\n",
       "      <td>94</td>\n",
       "      <td>89</td>\n",
       "      <td>95</td>\n",
       "      <td>90</td>\n",
       "    </tr>\n",
       "    <tr>\n",
       "      <th>2</th>\n",
       "      <td>Ned</td>\n",
       "      <td>95</td>\n",
       "      <td>95</td>\n",
       "      <td>54</td>\n",
       "      <td>43</td>\n",
       "    </tr>\n",
       "    <tr>\n",
       "      <th>3</th>\n",
       "      <td>Harry Potter</td>\n",
       "      <td>32</td>\n",
       "      <td>100</td>\n",
       "      <td>65</td>\n",
       "      <td>100</td>\n",
       "    </tr>\n",
       "  </tbody>\n",
       "</table>\n",
       "</div>"
      ],
      "text/plain": [
       "             이름   국어   미술  수학   체육\n",
       "0  Peter Parker  100   42  85  100\n",
       "1            MJ   94   89  95   90\n",
       "2           Ned   95   95  54   43\n",
       "3  Harry Potter   32  100  65  100"
      ]
     },
     "execution_count": 22,
     "metadata": {},
     "output_type": "execute_result"
    }
   ],
   "source": [
    "examDF"
   ]
  },
  {
   "cell_type": "markdown",
   "id": "d4cf8899-5849-4071-a4b8-65bdc836880d",
   "metadata": {},
   "source": [
    "(4) 저장된 데이터 속성 확인  <hr>"
   ]
  },
  {
   "cell_type": "code",
   "execution_count": 26,
   "id": "15ed4878-5647-465c-ae99-194755ba5abb",
   "metadata": {},
   "outputs": [],
   "source": [
    "def printAttribute(df, dfname): #함수로 만들어 두면 다음에 불러와서 사용 가능.\n",
    "    print(f'[{dfname} Attributes]')\n",
    "    print(f'index \\n===> {df.index}')\n",
    "    print(f'columns \\n===> {df.columns}')\n",
    "    print(f'shape =>\\n===> {df.shape}')\n",
    "    print(f'ndim =>\\n===> {df.ndim}')\n",
    "    print(f'dtypes=>\\n===> {df.dtypes}') \n",
    "    #type 데이터를 담고 있지만 Series 데이터이기 때문에 반복문을 써서 깔끔한 출력 가능!"
   ]
  },
  {
   "cell_type": "code",
   "execution_count": 27,
   "id": "449268a1-468b-44bb-98c6-42a4807894ea",
   "metadata": {},
   "outputs": [],
   "source": [
    "# print(f'index \\n===> {examDF.index}')\n",
    "# print(f'columns \\n===> {examDF.columns}')\n",
    "# print(f'shape =>\\n===> {examDF.shape}')\n",
    "# print(f'ndim =>\\n===> {examDF.ndim}')\n",
    "# print(f'dtype=>\\n===> {examDF.dtype}')"
   ]
  },
  {
   "cell_type": "code",
   "execution_count": 28,
   "id": "b2d0796f-7b5a-4496-89f6-a07457fe25b8",
   "metadata": {},
   "outputs": [
    {
     "name": "stdout",
     "output_type": "stream",
     "text": [
      "[examDF Attributes]\n",
      "index \n",
      "===> RangeIndex(start=0, stop=4, step=1)\n",
      "columns \n",
      "===> Index(['이름', '국어', '미술', '수학', '체육'], dtype='object')\n",
      "shape =>\n",
      "===> (4, 5)\n",
      "ndim =>\n",
      "===> 2\n",
      "dtypes=>\n",
      "===> 이름    object\n",
      "국어     int64\n",
      "미술     int64\n",
      "수학     int64\n",
      "체육     int64\n",
      "dtype: object\n"
     ]
    }
   ],
   "source": [
    "printAttribute(examDF, 'examDF')"
   ]
  },
  {
   "cell_type": "markdown",
   "id": "233dedad-64d0-4c8a-8901-d9683851379b",
   "metadata": {},
   "source": [
    "(5) DataFrame에 column 추가 <hr>\n",
    "- 방법 : DF객체변수명[새로운 컬럼명] = 값"
   ]
  },
  {
   "cell_type": "markdown",
   "id": "12ca9cec-319f-404c-8da2-ac512d99dd0b",
   "metadata": {},
   "source": [
    "Index(['이름', '국어', '미술', '수학', '체육'])"
   ]
  },
  {
   "cell_type": "code",
   "execution_count": 29,
   "id": "831398b8-f606-4468-b2ad-ba8419077614",
   "metadata": {},
   "outputs": [
    {
     "data": {
      "text/html": [
       "<div>\n",
       "<style scoped>\n",
       "    .dataframe tbody tr th:only-of-type {\n",
       "        vertical-align: middle;\n",
       "    }\n",
       "\n",
       "    .dataframe tbody tr th {\n",
       "        vertical-align: top;\n",
       "    }\n",
       "\n",
       "    .dataframe thead th {\n",
       "        text-align: right;\n",
       "    }\n",
       "</style>\n",
       "<table border=\"1\" class=\"dataframe\">\n",
       "  <thead>\n",
       "    <tr style=\"text-align: right;\">\n",
       "      <th></th>\n",
       "      <th>이름</th>\n",
       "      <th>국어</th>\n",
       "      <th>미술</th>\n",
       "      <th>수학</th>\n",
       "      <th>체육</th>\n",
       "      <th>영어</th>\n",
       "    </tr>\n",
       "  </thead>\n",
       "  <tbody>\n",
       "    <tr>\n",
       "      <th>0</th>\n",
       "      <td>Peter Parker</td>\n",
       "      <td>100</td>\n",
       "      <td>42</td>\n",
       "      <td>85</td>\n",
       "      <td>100</td>\n",
       "      <td>90</td>\n",
       "    </tr>\n",
       "    <tr>\n",
       "      <th>1</th>\n",
       "      <td>MJ</td>\n",
       "      <td>94</td>\n",
       "      <td>89</td>\n",
       "      <td>95</td>\n",
       "      <td>90</td>\n",
       "      <td>89</td>\n",
       "    </tr>\n",
       "    <tr>\n",
       "      <th>2</th>\n",
       "      <td>Ned</td>\n",
       "      <td>95</td>\n",
       "      <td>95</td>\n",
       "      <td>54</td>\n",
       "      <td>43</td>\n",
       "      <td>100</td>\n",
       "    </tr>\n",
       "    <tr>\n",
       "      <th>3</th>\n",
       "      <td>Harry Potter</td>\n",
       "      <td>32</td>\n",
       "      <td>100</td>\n",
       "      <td>65</td>\n",
       "      <td>100</td>\n",
       "      <td>99</td>\n",
       "    </tr>\n",
       "  </tbody>\n",
       "</table>\n",
       "</div>"
      ],
      "text/plain": [
       "             이름   국어   미술  수학   체육   영어\n",
       "0  Peter Parker  100   42  85  100   90\n",
       "1            MJ   94   89  95   90   89\n",
       "2           Ned   95   95  54   43  100\n",
       "3  Harry Potter   32  100  65  100   99"
      ]
     },
     "execution_count": 29,
     "metadata": {},
     "output_type": "execute_result"
    }
   ],
   "source": [
    "examDF['영어'] =[90, 89, 100, 99] #행의 개수 만큼 값 추가\n",
    "examDF"
   ]
  },
  {
   "cell_type": "code",
   "execution_count": 36,
   "id": "eb9f2799-1cc3-4f75-98f8-48b5a3968502",
   "metadata": {},
   "outputs": [
    {
     "data": {
      "text/html": [
       "<div>\n",
       "<style scoped>\n",
       "    .dataframe tbody tr th:only-of-type {\n",
       "        vertical-align: middle;\n",
       "    }\n",
       "\n",
       "    .dataframe tbody tr th {\n",
       "        vertical-align: top;\n",
       "    }\n",
       "\n",
       "    .dataframe thead th {\n",
       "        text-align: right;\n",
       "    }\n",
       "</style>\n",
       "<table border=\"1\" class=\"dataframe\">\n",
       "  <thead>\n",
       "    <tr style=\"text-align: right;\">\n",
       "      <th></th>\n",
       "      <th>이름</th>\n",
       "      <th>국어</th>\n",
       "      <th>미술</th>\n",
       "      <th>수학</th>\n",
       "      <th>체육</th>\n",
       "      <th>영어</th>\n",
       "      <th>과학</th>\n",
       "    </tr>\n",
       "  </thead>\n",
       "  <tbody>\n",
       "    <tr>\n",
       "      <th>0</th>\n",
       "      <td>Peter Parker</td>\n",
       "      <td>100</td>\n",
       "      <td>42</td>\n",
       "      <td>85</td>\n",
       "      <td>100</td>\n",
       "      <td>90</td>\n",
       "      <td>10</td>\n",
       "    </tr>\n",
       "    <tr>\n",
       "      <th>1</th>\n",
       "      <td>MJ</td>\n",
       "      <td>94</td>\n",
       "      <td>89</td>\n",
       "      <td>95</td>\n",
       "      <td>90</td>\n",
       "      <td>89</td>\n",
       "      <td>10</td>\n",
       "    </tr>\n",
       "    <tr>\n",
       "      <th>2</th>\n",
       "      <td>Ned</td>\n",
       "      <td>95</td>\n",
       "      <td>95</td>\n",
       "      <td>54</td>\n",
       "      <td>43</td>\n",
       "      <td>100</td>\n",
       "      <td>10</td>\n",
       "    </tr>\n",
       "    <tr>\n",
       "      <th>3</th>\n",
       "      <td>Harry Potter</td>\n",
       "      <td>32</td>\n",
       "      <td>100</td>\n",
       "      <td>65</td>\n",
       "      <td>100</td>\n",
       "      <td>99</td>\n",
       "      <td>10</td>\n",
       "    </tr>\n",
       "  </tbody>\n",
       "</table>\n",
       "</div>"
      ],
      "text/plain": [
       "             이름   국어   미술  수학   체육   영어  과학\n",
       "0  Peter Parker  100   42  85  100   90  10\n",
       "1            MJ   94   89  95   90   89  10\n",
       "2           Ned   95   95  54   43  100  10\n",
       "3  Harry Potter   32  100  65  100   99  10"
      ]
     },
     "execution_count": 36,
     "metadata": {},
     "output_type": "execute_result"
    }
   ],
   "source": [
    "examDF['과학'] = 10 #1개의 데이터 즉 값 추가 시 모든 행에 동일 값으로 저장.\n",
    "# examDF['과학'] = [10] 와 같이 입력하면 오류 발생!\n",
    "examDF "
   ]
  },
  {
   "cell_type": "code",
   "execution_count": 34,
   "id": "3081356f-eedd-442e-a4cc-10d62aa4c035",
   "metadata": {},
   "outputs": [
    {
     "ename": "ValueError",
     "evalue": "Length of values (2) does not match length of index (4)",
     "output_type": "error",
     "traceback": [
      "\u001b[1;31m---------------------------------------------------------------------------\u001b[0m",
      "\u001b[1;31mValueError\u001b[0m                                Traceback (most recent call last)",
      "Cell \u001b[1;32mIn[34], line 1\u001b[0m\n\u001b[1;32m----> 1\u001b[0m examDF[\u001b[38;5;124m'\u001b[39m\u001b[38;5;124m컴퓨터\u001b[39m\u001b[38;5;124m'\u001b[39m] \u001b[38;5;241m=\u001b[39m [\u001b[38;5;241m89\u001b[39m, \u001b[38;5;241m10\u001b[39m]\n",
      "File \u001b[1;32mC:\\ProgramData\\anaconda3\\envs\\My_38\\lib\\site-packages\\pandas\\core\\frame.py:3950\u001b[0m, in \u001b[0;36mDataFrame.__setitem__\u001b[1;34m(self, key, value)\u001b[0m\n\u001b[0;32m   3947\u001b[0m     \u001b[38;5;28mself\u001b[39m\u001b[38;5;241m.\u001b[39m_setitem_array([key], value)\n\u001b[0;32m   3948\u001b[0m \u001b[38;5;28;01melse\u001b[39;00m:\n\u001b[0;32m   3949\u001b[0m     \u001b[38;5;66;03m# set column\u001b[39;00m\n\u001b[1;32m-> 3950\u001b[0m     \u001b[38;5;28;43mself\u001b[39;49m\u001b[38;5;241;43m.\u001b[39;49m\u001b[43m_set_item\u001b[49m\u001b[43m(\u001b[49m\u001b[43mkey\u001b[49m\u001b[43m,\u001b[49m\u001b[43m \u001b[49m\u001b[43mvalue\u001b[49m\u001b[43m)\u001b[49m\n",
      "File \u001b[1;32mC:\\ProgramData\\anaconda3\\envs\\My_38\\lib\\site-packages\\pandas\\core\\frame.py:4143\u001b[0m, in \u001b[0;36mDataFrame._set_item\u001b[1;34m(self, key, value)\u001b[0m\n\u001b[0;32m   4133\u001b[0m \u001b[38;5;28;01mdef\u001b[39;00m \u001b[38;5;21m_set_item\u001b[39m(\u001b[38;5;28mself\u001b[39m, key, value) \u001b[38;5;241m-\u001b[39m\u001b[38;5;241m>\u001b[39m \u001b[38;5;28;01mNone\u001b[39;00m:\n\u001b[0;32m   4134\u001b[0m \u001b[38;5;250m    \u001b[39m\u001b[38;5;124;03m\"\"\"\u001b[39;00m\n\u001b[0;32m   4135\u001b[0m \u001b[38;5;124;03m    Add series to DataFrame in specified column.\u001b[39;00m\n\u001b[0;32m   4136\u001b[0m \n\u001b[1;32m   (...)\u001b[0m\n\u001b[0;32m   4141\u001b[0m \u001b[38;5;124;03m    ensure homogeneity.\u001b[39;00m\n\u001b[0;32m   4142\u001b[0m \u001b[38;5;124;03m    \"\"\"\u001b[39;00m\n\u001b[1;32m-> 4143\u001b[0m     value \u001b[38;5;241m=\u001b[39m \u001b[38;5;28;43mself\u001b[39;49m\u001b[38;5;241;43m.\u001b[39;49m\u001b[43m_sanitize_column\u001b[49m\u001b[43m(\u001b[49m\u001b[43mvalue\u001b[49m\u001b[43m)\u001b[49m\n\u001b[0;32m   4145\u001b[0m     \u001b[38;5;28;01mif\u001b[39;00m (\n\u001b[0;32m   4146\u001b[0m         key \u001b[38;5;129;01min\u001b[39;00m \u001b[38;5;28mself\u001b[39m\u001b[38;5;241m.\u001b[39mcolumns\n\u001b[0;32m   4147\u001b[0m         \u001b[38;5;129;01mand\u001b[39;00m value\u001b[38;5;241m.\u001b[39mndim \u001b[38;5;241m==\u001b[39m \u001b[38;5;241m1\u001b[39m\n\u001b[0;32m   4148\u001b[0m         \u001b[38;5;129;01mand\u001b[39;00m \u001b[38;5;129;01mnot\u001b[39;00m is_extension_array_dtype(value)\n\u001b[0;32m   4149\u001b[0m     ):\n\u001b[0;32m   4150\u001b[0m         \u001b[38;5;66;03m# broadcast across multiple columns if necessary\u001b[39;00m\n\u001b[0;32m   4151\u001b[0m         \u001b[38;5;28;01mif\u001b[39;00m \u001b[38;5;129;01mnot\u001b[39;00m \u001b[38;5;28mself\u001b[39m\u001b[38;5;241m.\u001b[39mcolumns\u001b[38;5;241m.\u001b[39mis_unique \u001b[38;5;129;01mor\u001b[39;00m \u001b[38;5;28misinstance\u001b[39m(\u001b[38;5;28mself\u001b[39m\u001b[38;5;241m.\u001b[39mcolumns, MultiIndex):\n",
      "File \u001b[1;32mC:\\ProgramData\\anaconda3\\envs\\My_38\\lib\\site-packages\\pandas\\core\\frame.py:4870\u001b[0m, in \u001b[0;36mDataFrame._sanitize_column\u001b[1;34m(self, value)\u001b[0m\n\u001b[0;32m   4867\u001b[0m     \u001b[38;5;28;01mreturn\u001b[39;00m _reindex_for_setitem(Series(value), \u001b[38;5;28mself\u001b[39m\u001b[38;5;241m.\u001b[39mindex)\n\u001b[0;32m   4869\u001b[0m \u001b[38;5;28;01mif\u001b[39;00m is_list_like(value):\n\u001b[1;32m-> 4870\u001b[0m     \u001b[43mcom\u001b[49m\u001b[38;5;241;43m.\u001b[39;49m\u001b[43mrequire_length_match\u001b[49m\u001b[43m(\u001b[49m\u001b[43mvalue\u001b[49m\u001b[43m,\u001b[49m\u001b[43m \u001b[49m\u001b[38;5;28;43mself\u001b[39;49m\u001b[38;5;241;43m.\u001b[39;49m\u001b[43mindex\u001b[49m\u001b[43m)\u001b[49m\n\u001b[0;32m   4871\u001b[0m \u001b[38;5;28;01mreturn\u001b[39;00m sanitize_array(value, \u001b[38;5;28mself\u001b[39m\u001b[38;5;241m.\u001b[39mindex, copy\u001b[38;5;241m=\u001b[39m\u001b[38;5;28;01mTrue\u001b[39;00m, allow_2d\u001b[38;5;241m=\u001b[39m\u001b[38;5;28;01mTrue\u001b[39;00m)\n",
      "File \u001b[1;32mC:\\ProgramData\\anaconda3\\envs\\My_38\\lib\\site-packages\\pandas\\core\\common.py:576\u001b[0m, in \u001b[0;36mrequire_length_match\u001b[1;34m(data, index)\u001b[0m\n\u001b[0;32m    572\u001b[0m \u001b[38;5;250m\u001b[39m\u001b[38;5;124;03m\"\"\"\u001b[39;00m\n\u001b[0;32m    573\u001b[0m \u001b[38;5;124;03mCheck the length of data matches the length of the index.\u001b[39;00m\n\u001b[0;32m    574\u001b[0m \u001b[38;5;124;03m\"\"\"\u001b[39;00m\n\u001b[0;32m    575\u001b[0m \u001b[38;5;28;01mif\u001b[39;00m \u001b[38;5;28mlen\u001b[39m(data) \u001b[38;5;241m!=\u001b[39m \u001b[38;5;28mlen\u001b[39m(index):\n\u001b[1;32m--> 576\u001b[0m     \u001b[38;5;28;01mraise\u001b[39;00m \u001b[38;5;167;01mValueError\u001b[39;00m(\n\u001b[0;32m    577\u001b[0m         \u001b[38;5;124m\"\u001b[39m\u001b[38;5;124mLength of values \u001b[39m\u001b[38;5;124m\"\u001b[39m\n\u001b[0;32m    578\u001b[0m         \u001b[38;5;124mf\u001b[39m\u001b[38;5;124m\"\u001b[39m\u001b[38;5;124m(\u001b[39m\u001b[38;5;132;01m{\u001b[39;00m\u001b[38;5;28mlen\u001b[39m(data)\u001b[38;5;132;01m}\u001b[39;00m\u001b[38;5;124m) \u001b[39m\u001b[38;5;124m\"\u001b[39m\n\u001b[0;32m    579\u001b[0m         \u001b[38;5;124m\"\u001b[39m\u001b[38;5;124mdoes not match length of index \u001b[39m\u001b[38;5;124m\"\u001b[39m\n\u001b[0;32m    580\u001b[0m         \u001b[38;5;124mf\u001b[39m\u001b[38;5;124m\"\u001b[39m\u001b[38;5;124m(\u001b[39m\u001b[38;5;132;01m{\u001b[39;00m\u001b[38;5;28mlen\u001b[39m(index)\u001b[38;5;132;01m}\u001b[39;00m\u001b[38;5;124m)\u001b[39m\u001b[38;5;124m\"\u001b[39m\n\u001b[0;32m    581\u001b[0m     )\n",
      "\u001b[1;31mValueError\u001b[0m: Length of values (2) does not match length of index (4)"
     ]
    }
   ],
   "source": [
    "examDF['컴퓨터'] = [89, 10] #1개보다 많지만 열의 항목보다 적은 데이터를 입력했을 때는 오류 발생"
   ]
  },
  {
   "cell_type": "code",
   "execution_count": 37,
   "id": "dc4f2de8-d119-42c1-92c9-8d2a43054dab",
   "metadata": {},
   "outputs": [
    {
     "data": {
      "text/html": [
       "<div>\n",
       "<style scoped>\n",
       "    .dataframe tbody tr th:only-of-type {\n",
       "        vertical-align: middle;\n",
       "    }\n",
       "\n",
       "    .dataframe tbody tr th {\n",
       "        vertical-align: top;\n",
       "    }\n",
       "\n",
       "    .dataframe thead th {\n",
       "        text-align: right;\n",
       "    }\n",
       "</style>\n",
       "<table border=\"1\" class=\"dataframe\">\n",
       "  <thead>\n",
       "    <tr style=\"text-align: right;\">\n",
       "      <th></th>\n",
       "      <th>이름</th>\n",
       "      <th>국어</th>\n",
       "      <th>미술</th>\n",
       "      <th>수학</th>\n",
       "      <th>체육</th>\n",
       "      <th>영어</th>\n",
       "      <th>과학</th>\n",
       "      <th>6</th>\n",
       "    </tr>\n",
       "  </thead>\n",
       "  <tbody>\n",
       "    <tr>\n",
       "      <th>0</th>\n",
       "      <td>Peter Parker</td>\n",
       "      <td>100</td>\n",
       "      <td>42</td>\n",
       "      <td>85</td>\n",
       "      <td>100</td>\n",
       "      <td>90</td>\n",
       "      <td>10</td>\n",
       "      <td>0</td>\n",
       "    </tr>\n",
       "    <tr>\n",
       "      <th>1</th>\n",
       "      <td>MJ</td>\n",
       "      <td>94</td>\n",
       "      <td>89</td>\n",
       "      <td>95</td>\n",
       "      <td>90</td>\n",
       "      <td>89</td>\n",
       "      <td>10</td>\n",
       "      <td>0</td>\n",
       "    </tr>\n",
       "    <tr>\n",
       "      <th>2</th>\n",
       "      <td>Ned</td>\n",
       "      <td>95</td>\n",
       "      <td>95</td>\n",
       "      <td>54</td>\n",
       "      <td>43</td>\n",
       "      <td>100</td>\n",
       "      <td>10</td>\n",
       "      <td>0</td>\n",
       "    </tr>\n",
       "    <tr>\n",
       "      <th>3</th>\n",
       "      <td>Harry Potter</td>\n",
       "      <td>32</td>\n",
       "      <td>100</td>\n",
       "      <td>65</td>\n",
       "      <td>100</td>\n",
       "      <td>99</td>\n",
       "      <td>10</td>\n",
       "      <td>0</td>\n",
       "    </tr>\n",
       "  </tbody>\n",
       "</table>\n",
       "</div>"
      ],
      "text/plain": [
       "             이름   국어   미술  수학   체육   영어  과학  6\n",
       "0  Peter Parker  100   42  85  100   90  10  0\n",
       "1            MJ   94   89  95   90   89  10  0\n",
       "2           Ned   95   95  54   43  100  10  0\n",
       "3  Harry Potter   32  100  65  100   99  10  0"
      ]
     },
     "execution_count": 37,
     "metadata": {},
     "output_type": "execute_result"
    }
   ],
   "source": [
    "examDF[6] = 0 #없는 열 이름에 값을 지정하면 열을 추가하고 기본값을 가진다.\n",
    "examDF"
   ]
  },
  {
   "cell_type": "code",
   "execution_count": 40,
   "id": "b1bb8374-5a8d-4c2c-a8d7-f36ef93d7948",
   "metadata": {},
   "outputs": [
    {
     "data": {
      "text/plain": [
       "Index(['이름', '국어', '미술', '수학', '체육', '영어', '과학', 6], dtype='object')"
      ]
     },
     "execution_count": 40,
     "metadata": {},
     "output_type": "execute_result"
    }
   ],
   "source": [
    "examDF.columns"
   ]
  },
  {
   "cell_type": "markdown",
   "id": "b7193c06-8cc1-4348-b6b7-66ad9e9feb13",
   "metadata": {},
   "source": [
    "(6) DataFrame에 행(row) 추가 <hr>\n",
    "-방법 : DF 객체변수명.loc[새로운 행 인덱스] = [Column 수만큼 데이터]\n",
    "-방법 : DF 객체변수명.loc[새로운 행 인덱스] = ㄷ데이터 # 데이터로 기본값이 입력됨.\n",
    "-  ※ 주의 :\n",
    "-   DF 객체변수명.iloc[새로운 행 인덱스] = [Column 수만큼 데이터] ===> 불가능. 데이터가 존재해야 인덱스 할당."
   ]
  },
  {
   "cell_type": "code",
   "execution_count": 41,
   "id": "8d918492-b951-4455-9a07-c944c2cb103f",
   "metadata": {},
   "outputs": [
    {
     "data": {
      "text/plain": [
       "RangeIndex(start=0, stop=4, step=1)"
      ]
     },
     "execution_count": 41,
     "metadata": {},
     "output_type": "execute_result"
    }
   ],
   "source": [
    "examDF.index"
   ]
  },
  {
   "cell_type": "code",
   "execution_count": 43,
   "id": "d898883b-f042-4342-b336-03300450e320",
   "metadata": {},
   "outputs": [],
   "source": [
    "# column 수만큼의 데이터를 가진 행 추가.\n",
    "examDF.loc[4] = ['Hermione', 100, 99, 98, 90,100, 93, 100]"
   ]
  },
  {
   "cell_type": "code",
   "execution_count": 44,
   "id": "b0d4efca-ff25-47d9-9d82-c18d50e49de2",
   "metadata": {},
   "outputs": [
    {
     "ename": "IndexError",
     "evalue": "iloc cannot enlarge its target object",
     "output_type": "error",
     "traceback": [
      "\u001b[1;31m---------------------------------------------------------------------------\u001b[0m",
      "\u001b[1;31mIndexError\u001b[0m                                Traceback (most recent call last)",
      "Cell \u001b[1;32mIn[44], line 1\u001b[0m\n\u001b[1;32m----> 1\u001b[0m examDF\u001b[38;5;241m.\u001b[39miloc[\u001b[38;5;241m5\u001b[39m] \u001b[38;5;241m=\u001b[39m [\u001b[38;5;124m'\u001b[39m\u001b[38;5;124mMalfoy\u001b[39m\u001b[38;5;124m'\u001b[39m, \u001b[38;5;241m100\u001b[39m, \u001b[38;5;241m99\u001b[39m, \u001b[38;5;241m98\u001b[39m, \u001b[38;5;241m90\u001b[39m,\u001b[38;5;241m100\u001b[39m, \u001b[38;5;241m93\u001b[39m, \u001b[38;5;241m100\u001b[39m]\n",
      "File \u001b[1;32mC:\\ProgramData\\anaconda3\\envs\\My_38\\lib\\site-packages\\pandas\\core\\indexing.py:846\u001b[0m, in \u001b[0;36m_LocationIndexer.__setitem__\u001b[1;34m(self, key, value)\u001b[0m\n\u001b[0;32m    844\u001b[0m     key \u001b[38;5;241m=\u001b[39m com\u001b[38;5;241m.\u001b[39mapply_if_callable(key, \u001b[38;5;28mself\u001b[39m\u001b[38;5;241m.\u001b[39mobj)\n\u001b[0;32m    845\u001b[0m indexer \u001b[38;5;241m=\u001b[39m \u001b[38;5;28mself\u001b[39m\u001b[38;5;241m.\u001b[39m_get_setitem_indexer(key)\n\u001b[1;32m--> 846\u001b[0m \u001b[38;5;28;43mself\u001b[39;49m\u001b[38;5;241;43m.\u001b[39;49m\u001b[43m_has_valid_setitem_indexer\u001b[49m\u001b[43m(\u001b[49m\u001b[43mkey\u001b[49m\u001b[43m)\u001b[49m\n\u001b[0;32m    848\u001b[0m iloc \u001b[38;5;241m=\u001b[39m \u001b[38;5;28mself\u001b[39m \u001b[38;5;28;01mif\u001b[39;00m \u001b[38;5;28mself\u001b[39m\u001b[38;5;241m.\u001b[39mname \u001b[38;5;241m==\u001b[39m \u001b[38;5;124m\"\u001b[39m\u001b[38;5;124miloc\u001b[39m\u001b[38;5;124m\"\u001b[39m \u001b[38;5;28;01melse\u001b[39;00m \u001b[38;5;28mself\u001b[39m\u001b[38;5;241m.\u001b[39mobj\u001b[38;5;241m.\u001b[39miloc\n\u001b[0;32m    849\u001b[0m iloc\u001b[38;5;241m.\u001b[39m_setitem_with_indexer(indexer, value, \u001b[38;5;28mself\u001b[39m\u001b[38;5;241m.\u001b[39mname)\n",
      "File \u001b[1;32mC:\\ProgramData\\anaconda3\\envs\\My_38\\lib\\site-packages\\pandas\\core\\indexing.py:1550\u001b[0m, in \u001b[0;36m_iLocIndexer._has_valid_setitem_indexer\u001b[1;34m(self, indexer)\u001b[0m\n\u001b[0;32m   1548\u001b[0m \u001b[38;5;28;01melif\u001b[39;00m is_integer(i):\n\u001b[0;32m   1549\u001b[0m     \u001b[38;5;28;01mif\u001b[39;00m i \u001b[38;5;241m>\u001b[39m\u001b[38;5;241m=\u001b[39m \u001b[38;5;28mlen\u001b[39m(ax):\n\u001b[1;32m-> 1550\u001b[0m         \u001b[38;5;28;01mraise\u001b[39;00m \u001b[38;5;167;01mIndexError\u001b[39;00m(\u001b[38;5;124m\"\u001b[39m\u001b[38;5;124miloc cannot enlarge its target object\u001b[39m\u001b[38;5;124m\"\u001b[39m)\n\u001b[0;32m   1551\u001b[0m \u001b[38;5;28;01melif\u001b[39;00m \u001b[38;5;28misinstance\u001b[39m(i, \u001b[38;5;28mdict\u001b[39m):\n\u001b[0;32m   1552\u001b[0m     \u001b[38;5;28;01mraise\u001b[39;00m \u001b[38;5;167;01mIndexError\u001b[39;00m(\u001b[38;5;124m\"\u001b[39m\u001b[38;5;124miloc cannot enlarge its target object\u001b[39m\u001b[38;5;124m\"\u001b[39m)\n",
      "\u001b[1;31mIndexError\u001b[0m: iloc cannot enlarge its target object"
     ]
    }
   ],
   "source": [
    "#행 추가 시 iloc는 사용불가 => Why? 데이터 수에 맞게 인덱스 범위 지정. 현재 인덱스에서 없는 인덱스.\n",
    "#examDF.iloc[5] = ['Malfoy', 100, 99, 98, 90,100, 93, 100]"
   ]
  },
  {
   "cell_type": "code",
   "execution_count": 47,
   "id": "d5e02b4f-d0f2-4122-81a0-1955146abba9",
   "metadata": {},
   "outputs": [],
   "source": [
    "#1개의 데이터를 가진 행 추가\n",
    "examDF.loc[5] = 'Ron' #"
   ]
  },
  {
   "cell_type": "code",
   "execution_count": 48,
   "id": "2975893e-b718-4761-bd14-2ce5fb0cfb00",
   "metadata": {},
   "outputs": [
    {
     "data": {
      "text/html": [
       "<div>\n",
       "<style scoped>\n",
       "    .dataframe tbody tr th:only-of-type {\n",
       "        vertical-align: middle;\n",
       "    }\n",
       "\n",
       "    .dataframe tbody tr th {\n",
       "        vertical-align: top;\n",
       "    }\n",
       "\n",
       "    .dataframe thead th {\n",
       "        text-align: right;\n",
       "    }\n",
       "</style>\n",
       "<table border=\"1\" class=\"dataframe\">\n",
       "  <thead>\n",
       "    <tr style=\"text-align: right;\">\n",
       "      <th></th>\n",
       "      <th>이름</th>\n",
       "      <th>국어</th>\n",
       "      <th>미술</th>\n",
       "      <th>수학</th>\n",
       "      <th>체육</th>\n",
       "      <th>영어</th>\n",
       "      <th>과학</th>\n",
       "      <th>6</th>\n",
       "    </tr>\n",
       "  </thead>\n",
       "  <tbody>\n",
       "    <tr>\n",
       "      <th>0</th>\n",
       "      <td>Peter Parker</td>\n",
       "      <td>100</td>\n",
       "      <td>42</td>\n",
       "      <td>85</td>\n",
       "      <td>100</td>\n",
       "      <td>90</td>\n",
       "      <td>10</td>\n",
       "      <td>0</td>\n",
       "    </tr>\n",
       "    <tr>\n",
       "      <th>1</th>\n",
       "      <td>MJ</td>\n",
       "      <td>94</td>\n",
       "      <td>89</td>\n",
       "      <td>95</td>\n",
       "      <td>90</td>\n",
       "      <td>89</td>\n",
       "      <td>10</td>\n",
       "      <td>0</td>\n",
       "    </tr>\n",
       "    <tr>\n",
       "      <th>2</th>\n",
       "      <td>Ned</td>\n",
       "      <td>95</td>\n",
       "      <td>95</td>\n",
       "      <td>54</td>\n",
       "      <td>43</td>\n",
       "      <td>100</td>\n",
       "      <td>10</td>\n",
       "      <td>0</td>\n",
       "    </tr>\n",
       "    <tr>\n",
       "      <th>3</th>\n",
       "      <td>Harry Potter</td>\n",
       "      <td>32</td>\n",
       "      <td>100</td>\n",
       "      <td>65</td>\n",
       "      <td>100</td>\n",
       "      <td>99</td>\n",
       "      <td>10</td>\n",
       "      <td>0</td>\n",
       "    </tr>\n",
       "    <tr>\n",
       "      <th>4</th>\n",
       "      <td>Hermione</td>\n",
       "      <td>100</td>\n",
       "      <td>99</td>\n",
       "      <td>98</td>\n",
       "      <td>90</td>\n",
       "      <td>100</td>\n",
       "      <td>93</td>\n",
       "      <td>100</td>\n",
       "    </tr>\n",
       "    <tr>\n",
       "      <th>5</th>\n",
       "      <td>Ron</td>\n",
       "      <td>Ron</td>\n",
       "      <td>Ron</td>\n",
       "      <td>Ron</td>\n",
       "      <td>Ron</td>\n",
       "      <td>Ron</td>\n",
       "      <td>Ron</td>\n",
       "      <td>Ron</td>\n",
       "    </tr>\n",
       "  </tbody>\n",
       "</table>\n",
       "</div>"
      ],
      "text/plain": [
       "             이름   국어   미술   수학   체육   영어   과학    6\n",
       "0  Peter Parker  100   42   85  100   90   10    0\n",
       "1            MJ   94   89   95   90   89   10    0\n",
       "2           Ned   95   95   54   43  100   10    0\n",
       "3  Harry Potter   32  100   65  100   99   10    0\n",
       "4      Hermione  100   99   98   90  100   93  100\n",
       "5           Ron  Ron  Ron  Ron  Ron  Ron  Ron  Ron"
      ]
     },
     "execution_count": 48,
     "metadata": {},
     "output_type": "execute_result"
    }
   ],
   "source": [
    "examDF"
   ]
  },
  {
   "cell_type": "code",
   "execution_count": null,
   "id": "b1cd7e88-eab9-4e69-8d5a-9283abaa962f",
   "metadata": {},
   "outputs": [],
   "source": []
  }
 ],
 "metadata": {
  "kernelspec": {
   "display_name": "Python 3 (ipykernel)",
   "language": "python",
   "name": "python3"
  },
  "language_info": {
   "codemirror_mode": {
    "name": "ipython",
    "version": 3
   },
   "file_extension": ".py",
   "mimetype": "text/x-python",
   "name": "python",
   "nbconvert_exporter": "python",
   "pygments_lexer": "ipython3",
   "version": "3.8.18"
  }
 },
 "nbformat": 4,
 "nbformat_minor": 5
}
