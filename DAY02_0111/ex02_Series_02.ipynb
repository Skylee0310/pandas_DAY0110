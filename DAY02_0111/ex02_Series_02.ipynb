{
 "cells": [
  {
   "cell_type": "markdown",
   "id": "b35a3906-1e53-46aa-9dd6-9f416b73e1a2",
   "metadata": {},
   "source": [
    "### [ 다양한 Series 객체 생성 ]"
   ]
  },
  {
   "cell_type": "code",
   "execution_count": 10,
   "id": "e6c6fa8d-3e35-48ed-86d6-6266d35cbc3c",
   "metadata": {},
   "outputs": [],
   "source": [
    "#### (1) 모듈 로딩"
   ]
  },
  {
   "cell_type": "code",
   "execution_count": 11,
   "id": "95a16318-57a8-4a72-9156-710b20af338d",
   "metadata": {},
   "outputs": [],
   "source": [
    "import pandas as pd"
   ]
  },
  {
   "cell_type": "markdown",
   "id": "d8e08521-1794-4da5-b5d8-361b55369536",
   "metadata": {},
   "source": [
    "#### (2) Series 객체 생성 - 방법1\n",
    "- Series(data, index=지정)"
   ]
  },
  {
   "cell_type": "code",
   "execution_count": 12,
   "id": "17104c95-8c17-41a9-abaf-7a95c5f31003",
   "metadata": {},
   "outputs": [],
   "source": [
    "sr1 = pd.Series([11,22,33], index=['one', 'two', 'three'])"
   ]
  },
  {
   "cell_type": "code",
   "execution_count": 13,
   "id": "685fa578-cbd9-4b65-8e2c-1da592f4745d",
   "metadata": {},
   "outputs": [
    {
     "data": {
      "text/plain": [
       "one      11\n",
       "two      22\n",
       "three    33\n",
       "dtype: int64"
      ]
     },
     "execution_count": 13,
     "metadata": {},
     "output_type": "execute_result"
    }
   ],
   "source": [
    "sr1"
   ]
  },
  {
   "cell_type": "markdown",
   "id": "0ca61789-a8c1-49eb-ac94-78f14d5454d2",
   "metadata": {},
   "source": [
    "#### (2) Series 객체 생성 - 방법2"
   ]
  },
  {
   "cell_type": "code",
   "execution_count": 14,
   "id": "6c74e628-4053-425a-ac3c-4178415b54b8",
   "metadata": {},
   "outputs": [
    {
     "data": {
      "text/plain": [
       "one      11\n",
       "two      22\n",
       "three    33\n",
       "Name: jumsu, dtype: int64"
      ]
     },
     "execution_count": 14,
     "metadata": {},
     "output_type": "execute_result"
    }
   ],
   "source": [
    "sr1 = pd.Series([11,22,33], index=['one', 'two', 'three'], name='jumsu')\n",
    "sr1"
   ]
  },
  {
   "cell_type": "markdown",
   "id": "681e3fb7-380f-4d71-aed4-4b64de00c908",
   "metadata": {},
   "source": [
    "#### (2) Series 객체 생성 - 방법3 "
   ]
  },
  {
   "cell_type": "code",
   "execution_count": 15,
   "id": "7a730175-5eb6-402c-9994-66e1631cc55b",
   "metadata": {},
   "outputs": [],
   "source": [
    "sr1 = pd.Series([11,22,33], index=['one', 'two', 'three'], name='jumsu', dtype='uint8')"
   ]
  },
  {
   "cell_type": "code",
   "execution_count": 16,
   "id": "ce7f2e64-59e4-4342-8b95-62068176c52a",
   "metadata": {},
   "outputs": [
    {
     "data": {
      "text/plain": [
       "one      11\n",
       "two      22\n",
       "three    33\n",
       "Name: jumsu, dtype: uint8"
      ]
     },
     "execution_count": 16,
     "metadata": {},
     "output_type": "execute_result"
    }
   ],
   "source": [
    "sr1"
   ]
  },
  {
   "cell_type": "markdown",
   "id": "6eef57df-a0b1-49e9-9258-2cfe5f89334e",
   "metadata": {},
   "source": [
    "#### (2) Series 객체 생성 - 방법4 => 저장되는 데이터 dict"
   ]
  },
  {
   "cell_type": "code",
   "execution_count": 18,
   "id": "f459e2c7-89c1-46e1-a532-18858dc8cc70",
   "metadata": {},
   "outputs": [
    {
     "data": {
      "text/plain": [
       "name    홍길동\n",
       "age      12\n",
       "job      도적\n",
       "dtype: object"
      ]
     },
     "execution_count": 18,
     "metadata": {},
     "output_type": "execute_result"
    }
   ],
   "source": [
    "data = {'name' : '홍길동', 'age':12, 'job':'도적'}\n",
    "sr1 = pd.Series(data)\n",
    "sr1"
   ]
  },
  {
   "cell_type": "code",
   "execution_count": 22,
   "id": "4882af37-4df7-4003-a386-ce5fa056ca34",
   "metadata": {},
   "outputs": [
    {
     "name": "stdout",
     "output_type": "stream",
     "text": [
      "Index(['name', 'age', 'job'], dtype='object')\n",
      "['홍길동' 12 '도적']\n"
     ]
    }
   ],
   "source": [
    "# 속성확인하기\n",
    "print(sr1.index, sr1.values, sep = '\\n')"
   ]
  },
  {
   "cell_type": "code",
   "execution_count": 23,
   "id": "496f1213-f054-4bbd-ba90-c2361cf4b4de",
   "metadata": {},
   "outputs": [
    {
     "data": {
      "text/plain": [
       "(Index(['name', 'age', 'job'], dtype='object'),\n",
       " array(['홍길동', 12, '도적'], dtype=object))"
      ]
     },
     "execution_count": 23,
     "metadata": {},
     "output_type": "execute_result"
    }
   ],
   "source": [
    "sr1.index, sr1.values"
   ]
  },
  {
   "cell_type": "markdown",
   "id": "39cf616a-301d-4ed9-8fee-557e1b67f9ce",
   "metadata": {},
   "source": [
    "#### (2) Series 객체 생성 - 방법5 => 저장되는 데이터 set"
   ]
  },
  {
   "cell_type": "code",
   "execution_count": 27,
   "id": "d0352914-1180-431a-9297-c33168e40014",
   "metadata": {},
   "outputs": [
    {
     "data": {
      "text/plain": [
       "1    홍길동\n",
       "2     12\n",
       "3     도적\n",
       "dtype: object"
      ]
     },
     "execution_count": 27,
     "metadata": {},
     "output_type": "execute_result"
    }
   ],
   "source": [
    "data = {'홍길동', 12, '도적'} #순서없는 데이터, 중복 불가\n",
    "#형변환 후에 객체 생성 가능.\n",
    "sr1 = pd.Series(list(data), index=[1,2,3])\n",
    "sr1"
   ]
  },
  {
   "cell_type": "code",
   "execution_count": null,
   "id": "7897ccd3-43a0-4d27-a222-d99d75a2407f",
   "metadata": {},
   "outputs": [],
   "source": []
  }
 ],
 "metadata": {
  "kernelspec": {
   "display_name": "Python 3 (ipykernel)",
   "language": "python",
   "name": "python3"
  },
  "language_info": {
   "codemirror_mode": {
    "name": "ipython",
    "version": 3
   },
   "file_extension": ".py",
   "mimetype": "text/x-python",
   "name": "python",
   "nbconvert_exporter": "python",
   "pygments_lexer": "ipython3",
   "version": "3.8.18"
  }
 },
 "nbformat": 4,
 "nbformat_minor": 5
}
