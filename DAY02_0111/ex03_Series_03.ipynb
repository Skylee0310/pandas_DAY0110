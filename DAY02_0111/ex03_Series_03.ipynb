{
 "cells": [
  {
   "cell_type": "markdown",
   "id": "857db3d3-b84e-4d89-8ea0-2451f89adc83",
   "metadata": {},
   "source": [
    "### [ Series 객체 원소 인덱싱 & 슬라이싱 ]"
   ]
  },
  {
   "cell_type": "markdown",
   "id": "b0f0090c-18aa-41ef-bdf8-102988267751",
   "metadata": {},
   "source": [
    "(1) 모듈 로딩 ============================================================="
   ]
  },
  {
   "cell_type": "code",
   "execution_count": 6,
   "id": "dbee0fef-e130-461e-81ff-fe01e6bc1cd4",
   "metadata": {},
   "outputs": [],
   "source": [
    "from pandas import Series"
   ]
  },
  {
   "cell_type": "markdown",
   "id": "3e179731-13fb-47d9-91ee-4b1ac6bef5b7",
   "metadata": {},
   "source": [
    "(2) 데이터 준비 --------------------------------------------------------------------------------"
   ]
  },
  {
   "cell_type": "code",
   "execution_count": 4,
   "id": "62f2dc62-a71a-4ccc-9b50-74809e8f68a0",
   "metadata": {},
   "outputs": [],
   "source": [
    "datas = {'name' :'홍길동', 'age':12, 'job':'도적'}"
   ]
  },
  {
   "cell_type": "markdown",
   "id": "706f49e7-162c-4a8a-84d7-385df05e5066",
   "metadata": {},
   "source": [
    "(3) 객체 생성 -----------------------------------------------------------------"
   ]
  },
  {
   "cell_type": "code",
   "execution_count": 7,
   "id": "b2845664-26ee-40b9-9516-7cf3746961e6",
   "metadata": {},
   "outputs": [],
   "source": [
    "sr1 =Series(datas)"
   ]
  },
  {
   "cell_type": "code",
   "execution_count": 8,
   "id": "c60171eb-c874-4a3f-9c43-6978998b7608",
   "metadata": {},
   "outputs": [
    {
     "data": {
      "text/plain": [
       "name    홍길동\n",
       "age      12\n",
       "job      도적\n",
       "dtype: object"
      ]
     },
     "execution_count": 8,
     "metadata": {},
     "output_type": "execute_result"
    }
   ],
   "source": [
    "sr1"
   ]
  },
  {
   "cell_type": "markdown",
   "id": "b633de77-22cd-47fb-aacf-3a5e7ea16c76",
   "metadata": {},
   "source": [
    "(4) 인덱싱으로 원소 읽기 -------------------------------------------------------"
   ]
  },
  {
   "cell_type": "markdown",
   "id": "73a9e1b1-218a-4e1f-af15-eb6eb49b5886",
   "metadata": {},
   "source": [
    "=> 1개 원소 읽기"
   ]
  },
  {
   "cell_type": "code",
   "execution_count": 10,
   "id": "0e03dd37-554c-46ac-bb11-3ff9daa6ee7a",
   "metadata": {},
   "outputs": [
    {
     "data": {
      "text/plain": [
       "(12, 12, Index(['name', 'age', 'job'], dtype='object'))"
      ]
     },
     "execution_count": 10,
     "metadata": {},
     "output_type": "execute_result"
    }
   ],
   "source": [
    "sr1['age'], sr1[1], sr1.index"
   ]
  },
  {
   "cell_type": "markdown",
   "id": "2f7eac03-48c0-4af8-9d8f-903a19f293fa",
   "metadata": {},
   "source": [
    "=> 2개 원소 읽기"
   ]
  },
  {
   "cell_type": "code",
   "execution_count": 13,
   "id": "02edd59a-19e3-496d-b35e-6026f00ef1d0",
   "metadata": {},
   "outputs": [
    {
     "data": {
      "text/plain": [
       "('홍길동', '도적', '홍길동', '도적')"
      ]
     },
     "execution_count": 13,
     "metadata": {},
     "output_type": "execute_result"
    }
   ],
   "source": [
    "# 이름과 직업 데이터 읽기 => 원소 단위\n",
    "sr1[0], sr1[2], sr1['name'], sr1['job']"
   ]
  },
  {
   "cell_type": "code",
   "execution_count": 14,
   "id": "f12aa3e5-d03d-410a-9692-3a5f0452be21",
   "metadata": {},
   "outputs": [],
   "source": [
    "a = [1, 2, 3]\n",
    "b = (11, 22, 33)"
   ]
  },
  {
   "cell_type": "code",
   "execution_count": 15,
   "id": "032ab5ed-1a92-4517-8f3a-b528bb3e88db",
   "metadata": {},
   "outputs": [
    {
     "data": {
      "text/plain": [
       "(1, int)"
      ]
     },
     "execution_count": 15,
     "metadata": {},
     "output_type": "execute_result"
    }
   ],
   "source": [
    "a[0], type(a[0])"
   ]
  },
  {
   "cell_type": "code",
   "execution_count": 18,
   "id": "e27a2da2-a7b4-4dd5-940e-70475a36f955",
   "metadata": {},
   "outputs": [
    {
     "data": {
      "text/plain": [
       "(1, list, [1], list)"
      ]
     },
     "execution_count": 18,
     "metadata": {},
     "output_type": "execute_result"
    }
   ],
   "source": [
    "a[0], type(a), a[:1], type(a[:1])"
   ]
  },
  {
   "cell_type": "code",
   "execution_count": 23,
   "id": "6f985fde-870c-4030-977a-a3884c25752d",
   "metadata": {},
   "outputs": [
    {
     "data": {
      "text/plain": [
       "(pandas.core.series.Series,\n",
       " name    홍길동\n",
       " job      도적\n",
       " dtype: object)"
      ]
     },
     "execution_count": 23,
     "metadata": {},
     "output_type": "execute_result"
    }
   ],
   "source": [
    "# 이름과 직업 데이터읽기 => 리스트 단위로 읽기\n",
    "ret = sr1[['name','job']]\n",
    "ret2 = sr1[[0,2]]\n",
    "type(ret), ret"
   ]
  },
  {
   "cell_type": "code",
   "execution_count": 24,
   "id": "21683bfa-cb17-4244-be26-b083f0206179",
   "metadata": {},
   "outputs": [
    {
     "data": {
      "text/plain": [
       "(pandas.core.series.Series,\n",
       " name    홍길동\n",
       " job      도적\n",
       " dtype: object)"
      ]
     },
     "execution_count": 24,
     "metadata": {},
     "output_type": "execute_result"
    }
   ],
   "source": [
    "type(ret2), ret2"
   ]
  },
  {
   "cell_type": "markdown",
   "id": "bd7b118a-eaed-4ebc-ad72-7592a0f46ad4",
   "metadata": {},
   "source": [
    "(4) 슬라이싱으로 원소 읽기 ---------------------------------------------------"
   ]
  },
  {
   "cell_type": "code",
   "execution_count": 28,
   "id": "5c7bf5e6-a063-455c-97ae-a2b5a1c25a62",
   "metadata": {},
   "outputs": [
    {
     "data": {
      "text/plain": [
       "name    홍길동\n",
       "age      12\n",
       "dtype: object"
      ]
     },
     "execution_count": 28,
     "metadata": {},
     "output_type": "execute_result"
    }
   ],
   "source": [
    "# 위치 인덱스로 슬라이싱\n",
    "sr1[:2]"
   ]
  },
  {
   "cell_type": "code",
   "execution_count": 30,
   "id": "e79d43f9-f961-46b2-8386-fd5313d9abcd",
   "metadata": {},
   "outputs": [
    {
     "data": {
      "text/plain": [
       "name    홍길동\n",
       "age      12\n",
       "job      도적\n",
       "dtype: object"
      ]
     },
     "execution_count": 30,
     "metadata": {},
     "output_type": "execute_result"
    }
   ],
   "source": [
    "sr1[:]"
   ]
  },
  {
   "cell_type": "code",
   "execution_count": 31,
   "id": "46f167c2-2709-4b7d-a599-24a4e7c0a818",
   "metadata": {},
   "outputs": [
    {
     "data": {
      "text/plain": [
       "name    홍길동\n",
       "age      12\n",
       "dtype: object"
      ]
     },
     "execution_count": 31,
     "metadata": {},
     "output_type": "execute_result"
    }
   ],
   "source": [
    "sr1[:-1]"
   ]
  },
  {
   "cell_type": "markdown",
   "id": "10f9a086-541d-430b-8c64-53d89700231e",
   "metadata": {},
   "source": [
    "(5) 레이블 인덱스로 슬라이싱 ---------------------------------------------------"
   ]
  },
  {
   "cell_type": "code",
   "execution_count": 33,
   "id": "af10a571-333c-424c-a4f8-b3d278303e1a",
   "metadata": {},
   "outputs": [
    {
     "data": {
      "text/plain": [
       "name    홍길동\n",
       "age      12\n",
       "job      도적\n",
       "dtype: object"
      ]
     },
     "execution_count": 33,
     "metadata": {},
     "output_type": "execute_result"
    }
   ],
   "source": [
    "sr1['name':'job'] #시작<=~<=끝"
   ]
  },
  {
   "cell_type": "code",
   "execution_count": 34,
   "id": "364d76db-8387-4fd7-b4fd-58da7f1bf041",
   "metadata": {},
   "outputs": [
    {
     "data": {
      "text/plain": [
       "name    홍길동\n",
       "age      12\n",
       "dtype: object"
      ]
     },
     "execution_count": 34,
     "metadata": {},
     "output_type": "execute_result"
    }
   ],
   "source": [
    "sr1['name':'age'] #시작<=~<=끝   == sr1[:2]"
   ]
  },
  {
   "cell_type": "code",
   "execution_count": null,
   "id": "bd1eab20-f0ed-4474-89a2-949ad83cfd85",
   "metadata": {},
   "outputs": [],
   "source": []
  }
 ],
 "metadata": {
  "kernelspec": {
   "display_name": "Python 3 (ipykernel)",
   "language": "python",
   "name": "python3"
  },
  "language_info": {
   "codemirror_mode": {
    "name": "ipython",
    "version": 3
   },
   "file_extension": ".py",
   "mimetype": "text/x-python",
   "name": "python",
   "nbconvert_exporter": "python",
   "pygments_lexer": "ipython3",
   "version": "3.8.18"
  }
 },
 "nbformat": 4,
 "nbformat_minor": 5
}
